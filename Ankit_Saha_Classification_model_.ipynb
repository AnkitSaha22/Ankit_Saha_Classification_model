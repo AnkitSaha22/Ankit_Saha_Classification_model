{
  "cells": [
    {
      "cell_type": "markdown",
      "metadata": {
        "id": "urVHpzmj2__f"
      },
      "source": [
        "# **Installing libraries with its latest version**"
      ]
    },
    {
      "cell_type": "code",
      "execution_count": 1,
      "metadata": {
        "id": "PLGhYrPh_Xca"
      },
      "outputs": [],
      "source": [
        "import pandas as pd\n",
        "import numpy as np\n",
        "import re\n",
        "from transformers import AutoTokenizer, AutoModelForSequenceClassification\n",
        "from sklearn.model_selection import train_test_split\n",
        "from transformers import TrainingArguments, Trainer\n",
        "import nltk\n",
        "from nltk.corpus import stopwords\n",
        "from nltk.stem import PorterStemmer\n",
        "from nltk.tokenize import word_tokenize\n",
        "from sklearn.metrics import classification_report, confusion_matrix"
      ]
    },
    {
      "cell_type": "markdown",
      "metadata": {
        "id": "ZAorbWOg3MAa"
      },
      "source": [
        "# **Importing Dataset**"
      ]
    },
    {
      "cell_type": "code",
      "execution_count": 2,
      "metadata": {
        "id": "KIZ0QI_4_YYg"
      },
      "outputs": [],
      "source": [
        "file_path='/content/drive/MyDrive/Colab Notebooks/archive.zip'"
      ]
    },
    {
      "cell_type": "code",
      "execution_count": 3,
      "metadata": {
        "id": "iYRpKZoE_yV9"
      },
      "outputs": [],
      "source": [
        "df=pd.read_csv(file_path,compression='zip')"
      ]
    },
    {
      "cell_type": "code",
      "execution_count": 4,
      "metadata": {
        "colab": {
          "base_uri": "https://localhost:8080/",
          "height": 206
        },
        "id": "QtwRout4_2zR",
        "outputId": "f269e6fe-7803-4849-f62f-11746997dc8f"
      },
      "outputs": [
        {
          "output_type": "execute_result",
          "data": {
            "text/plain": [
              "  case_id case_outcome                                         case_title  \\\n",
              "0   Case1        cited  Alpine Hardwood (Aust) Pty Ltd v Hardys Pty Lt...   \n",
              "1   Case2        cited  Black v Lipovac [1998] FCA 699 ; (1998) 217 AL...   \n",
              "2   Case3        cited  Colgate Palmolive Co v Cussons Pty Ltd (1993) ...   \n",
              "3   Case4        cited  Dais Studio Pty Ltd v Bullett Creative Pty Ltd...   \n",
              "4   Case5        cited  Dr Martens Australia Pty Ltd v Figgins Holding...   \n",
              "\n",
              "                                           case_text  \n",
              "0  Ordinarily that discretion will be exercised s...  \n",
              "1  The general principles governing the exercise ...  \n",
              "2  Ordinarily that discretion will be exercised s...  \n",
              "3  The general principles governing the exercise ...  \n",
              "4  The preceding general principles inform the ex...  "
            ],
            "text/html": [
              "\n",
              "  <div id=\"df-b03b8471-dfe1-403e-8cad-de5e9b8aabf1\" class=\"colab-df-container\">\n",
              "    <div>\n",
              "<style scoped>\n",
              "    .dataframe tbody tr th:only-of-type {\n",
              "        vertical-align: middle;\n",
              "    }\n",
              "\n",
              "    .dataframe tbody tr th {\n",
              "        vertical-align: top;\n",
              "    }\n",
              "\n",
              "    .dataframe thead th {\n",
              "        text-align: right;\n",
              "    }\n",
              "</style>\n",
              "<table border=\"1\" class=\"dataframe\">\n",
              "  <thead>\n",
              "    <tr style=\"text-align: right;\">\n",
              "      <th></th>\n",
              "      <th>case_id</th>\n",
              "      <th>case_outcome</th>\n",
              "      <th>case_title</th>\n",
              "      <th>case_text</th>\n",
              "    </tr>\n",
              "  </thead>\n",
              "  <tbody>\n",
              "    <tr>\n",
              "      <th>0</th>\n",
              "      <td>Case1</td>\n",
              "      <td>cited</td>\n",
              "      <td>Alpine Hardwood (Aust) Pty Ltd v Hardys Pty Lt...</td>\n",
              "      <td>Ordinarily that discretion will be exercised s...</td>\n",
              "    </tr>\n",
              "    <tr>\n",
              "      <th>1</th>\n",
              "      <td>Case2</td>\n",
              "      <td>cited</td>\n",
              "      <td>Black v Lipovac [1998] FCA 699 ; (1998) 217 AL...</td>\n",
              "      <td>The general principles governing the exercise ...</td>\n",
              "    </tr>\n",
              "    <tr>\n",
              "      <th>2</th>\n",
              "      <td>Case3</td>\n",
              "      <td>cited</td>\n",
              "      <td>Colgate Palmolive Co v Cussons Pty Ltd (1993) ...</td>\n",
              "      <td>Ordinarily that discretion will be exercised s...</td>\n",
              "    </tr>\n",
              "    <tr>\n",
              "      <th>3</th>\n",
              "      <td>Case4</td>\n",
              "      <td>cited</td>\n",
              "      <td>Dais Studio Pty Ltd v Bullett Creative Pty Ltd...</td>\n",
              "      <td>The general principles governing the exercise ...</td>\n",
              "    </tr>\n",
              "    <tr>\n",
              "      <th>4</th>\n",
              "      <td>Case5</td>\n",
              "      <td>cited</td>\n",
              "      <td>Dr Martens Australia Pty Ltd v Figgins Holding...</td>\n",
              "      <td>The preceding general principles inform the ex...</td>\n",
              "    </tr>\n",
              "  </tbody>\n",
              "</table>\n",
              "</div>\n",
              "    <div class=\"colab-df-buttons\">\n",
              "\n",
              "  <div class=\"colab-df-container\">\n",
              "    <button class=\"colab-df-convert\" onclick=\"convertToInteractive('df-b03b8471-dfe1-403e-8cad-de5e9b8aabf1')\"\n",
              "            title=\"Convert this dataframe to an interactive table.\"\n",
              "            style=\"display:none;\">\n",
              "\n",
              "  <svg xmlns=\"http://www.w3.org/2000/svg\" height=\"24px\" viewBox=\"0 -960 960 960\">\n",
              "    <path d=\"M120-120v-720h720v720H120Zm60-500h600v-160H180v160Zm220 220h160v-160H400v160Zm0 220h160v-160H400v160ZM180-400h160v-160H180v160Zm440 0h160v-160H620v160ZM180-180h160v-160H180v160Zm440 0h160v-160H620v160Z\"/>\n",
              "  </svg>\n",
              "    </button>\n",
              "\n",
              "  <style>\n",
              "    .colab-df-container {\n",
              "      display:flex;\n",
              "      gap: 12px;\n",
              "    }\n",
              "\n",
              "    .colab-df-convert {\n",
              "      background-color: #E8F0FE;\n",
              "      border: none;\n",
              "      border-radius: 50%;\n",
              "      cursor: pointer;\n",
              "      display: none;\n",
              "      fill: #1967D2;\n",
              "      height: 32px;\n",
              "      padding: 0 0 0 0;\n",
              "      width: 32px;\n",
              "    }\n",
              "\n",
              "    .colab-df-convert:hover {\n",
              "      background-color: #E2EBFA;\n",
              "      box-shadow: 0px 1px 2px rgba(60, 64, 67, 0.3), 0px 1px 3px 1px rgba(60, 64, 67, 0.15);\n",
              "      fill: #174EA6;\n",
              "    }\n",
              "\n",
              "    .colab-df-buttons div {\n",
              "      margin-bottom: 4px;\n",
              "    }\n",
              "\n",
              "    [theme=dark] .colab-df-convert {\n",
              "      background-color: #3B4455;\n",
              "      fill: #D2E3FC;\n",
              "    }\n",
              "\n",
              "    [theme=dark] .colab-df-convert:hover {\n",
              "      background-color: #434B5C;\n",
              "      box-shadow: 0px 1px 3px 1px rgba(0, 0, 0, 0.15);\n",
              "      filter: drop-shadow(0px 1px 2px rgba(0, 0, 0, 0.3));\n",
              "      fill: #FFFFFF;\n",
              "    }\n",
              "  </style>\n",
              "\n",
              "    <script>\n",
              "      const buttonEl =\n",
              "        document.querySelector('#df-b03b8471-dfe1-403e-8cad-de5e9b8aabf1 button.colab-df-convert');\n",
              "      buttonEl.style.display =\n",
              "        google.colab.kernel.accessAllowed ? 'block' : 'none';\n",
              "\n",
              "      async function convertToInteractive(key) {\n",
              "        const element = document.querySelector('#df-b03b8471-dfe1-403e-8cad-de5e9b8aabf1');\n",
              "        const dataTable =\n",
              "          await google.colab.kernel.invokeFunction('convertToInteractive',\n",
              "                                                    [key], {});\n",
              "        if (!dataTable) return;\n",
              "\n",
              "        const docLinkHtml = 'Like what you see? Visit the ' +\n",
              "          '<a target=\"_blank\" href=https://colab.research.google.com/notebooks/data_table.ipynb>data table notebook</a>'\n",
              "          + ' to learn more about interactive tables.';\n",
              "        element.innerHTML = '';\n",
              "        dataTable['output_type'] = 'display_data';\n",
              "        await google.colab.output.renderOutput(dataTable, element);\n",
              "        const docLink = document.createElement('div');\n",
              "        docLink.innerHTML = docLinkHtml;\n",
              "        element.appendChild(docLink);\n",
              "      }\n",
              "    </script>\n",
              "  </div>\n",
              "\n",
              "\n",
              "<div id=\"df-939e1975-4951-491c-a8a9-3c24f1817cb3\">\n",
              "  <button class=\"colab-df-quickchart\" onclick=\"quickchart('df-939e1975-4951-491c-a8a9-3c24f1817cb3')\"\n",
              "            title=\"Suggest charts\"\n",
              "            style=\"display:none;\">\n",
              "\n",
              "<svg xmlns=\"http://www.w3.org/2000/svg\" height=\"24px\"viewBox=\"0 0 24 24\"\n",
              "     width=\"24px\">\n",
              "    <g>\n",
              "        <path d=\"M19 3H5c-1.1 0-2 .9-2 2v14c0 1.1.9 2 2 2h14c1.1 0 2-.9 2-2V5c0-1.1-.9-2-2-2zM9 17H7v-7h2v7zm4 0h-2V7h2v10zm4 0h-2v-4h2v4z\"/>\n",
              "    </g>\n",
              "</svg>\n",
              "  </button>\n",
              "\n",
              "<style>\n",
              "  .colab-df-quickchart {\n",
              "      --bg-color: #E8F0FE;\n",
              "      --fill-color: #1967D2;\n",
              "      --hover-bg-color: #E2EBFA;\n",
              "      --hover-fill-color: #174EA6;\n",
              "      --disabled-fill-color: #AAA;\n",
              "      --disabled-bg-color: #DDD;\n",
              "  }\n",
              "\n",
              "  [theme=dark] .colab-df-quickchart {\n",
              "      --bg-color: #3B4455;\n",
              "      --fill-color: #D2E3FC;\n",
              "      --hover-bg-color: #434B5C;\n",
              "      --hover-fill-color: #FFFFFF;\n",
              "      --disabled-bg-color: #3B4455;\n",
              "      --disabled-fill-color: #666;\n",
              "  }\n",
              "\n",
              "  .colab-df-quickchart {\n",
              "    background-color: var(--bg-color);\n",
              "    border: none;\n",
              "    border-radius: 50%;\n",
              "    cursor: pointer;\n",
              "    display: none;\n",
              "    fill: var(--fill-color);\n",
              "    height: 32px;\n",
              "    padding: 0;\n",
              "    width: 32px;\n",
              "  }\n",
              "\n",
              "  .colab-df-quickchart:hover {\n",
              "    background-color: var(--hover-bg-color);\n",
              "    box-shadow: 0 1px 2px rgba(60, 64, 67, 0.3), 0 1px 3px 1px rgba(60, 64, 67, 0.15);\n",
              "    fill: var(--button-hover-fill-color);\n",
              "  }\n",
              "\n",
              "  .colab-df-quickchart-complete:disabled,\n",
              "  .colab-df-quickchart-complete:disabled:hover {\n",
              "    background-color: var(--disabled-bg-color);\n",
              "    fill: var(--disabled-fill-color);\n",
              "    box-shadow: none;\n",
              "  }\n",
              "\n",
              "  .colab-df-spinner {\n",
              "    border: 2px solid var(--fill-color);\n",
              "    border-color: transparent;\n",
              "    border-bottom-color: var(--fill-color);\n",
              "    animation:\n",
              "      spin 1s steps(1) infinite;\n",
              "  }\n",
              "\n",
              "  @keyframes spin {\n",
              "    0% {\n",
              "      border-color: transparent;\n",
              "      border-bottom-color: var(--fill-color);\n",
              "      border-left-color: var(--fill-color);\n",
              "    }\n",
              "    20% {\n",
              "      border-color: transparent;\n",
              "      border-left-color: var(--fill-color);\n",
              "      border-top-color: var(--fill-color);\n",
              "    }\n",
              "    30% {\n",
              "      border-color: transparent;\n",
              "      border-left-color: var(--fill-color);\n",
              "      border-top-color: var(--fill-color);\n",
              "      border-right-color: var(--fill-color);\n",
              "    }\n",
              "    40% {\n",
              "      border-color: transparent;\n",
              "      border-right-color: var(--fill-color);\n",
              "      border-top-color: var(--fill-color);\n",
              "    }\n",
              "    60% {\n",
              "      border-color: transparent;\n",
              "      border-right-color: var(--fill-color);\n",
              "    }\n",
              "    80% {\n",
              "      border-color: transparent;\n",
              "      border-right-color: var(--fill-color);\n",
              "      border-bottom-color: var(--fill-color);\n",
              "    }\n",
              "    90% {\n",
              "      border-color: transparent;\n",
              "      border-bottom-color: var(--fill-color);\n",
              "    }\n",
              "  }\n",
              "</style>\n",
              "\n",
              "  <script>\n",
              "    async function quickchart(key) {\n",
              "      const quickchartButtonEl =\n",
              "        document.querySelector('#' + key + ' button');\n",
              "      quickchartButtonEl.disabled = true;  // To prevent multiple clicks.\n",
              "      quickchartButtonEl.classList.add('colab-df-spinner');\n",
              "      try {\n",
              "        const charts = await google.colab.kernel.invokeFunction(\n",
              "            'suggestCharts', [key], {});\n",
              "      } catch (error) {\n",
              "        console.error('Error during call to suggestCharts:', error);\n",
              "      }\n",
              "      quickchartButtonEl.classList.remove('colab-df-spinner');\n",
              "      quickchartButtonEl.classList.add('colab-df-quickchart-complete');\n",
              "    }\n",
              "    (() => {\n",
              "      let quickchartButtonEl =\n",
              "        document.querySelector('#df-939e1975-4951-491c-a8a9-3c24f1817cb3 button');\n",
              "      quickchartButtonEl.style.display =\n",
              "        google.colab.kernel.accessAllowed ? 'block' : 'none';\n",
              "    })();\n",
              "  </script>\n",
              "</div>\n",
              "\n",
              "    </div>\n",
              "  </div>\n"
            ],
            "application/vnd.google.colaboratory.intrinsic+json": {
              "type": "dataframe",
              "variable_name": "df",
              "summary": "{\n  \"name\": \"df\",\n  \"rows\": 24985,\n  \"fields\": [\n    {\n      \"column\": \"case_id\",\n      \"properties\": {\n        \"dtype\": \"string\",\n        \"num_unique_values\": 24985,\n        \"samples\": [\n          \"Case15689\",\n          \"Case9347\",\n          \"Case8483\"\n        ],\n        \"semantic_type\": \"\",\n        \"description\": \"\"\n      }\n    },\n    {\n      \"column\": \"case_outcome\",\n      \"properties\": {\n        \"dtype\": \"category\",\n        \"num_unique_values\": 10,\n        \"samples\": [\n          \"affirmed\",\n          \"applied\",\n          \"considered\"\n        ],\n        \"semantic_type\": \"\",\n        \"description\": \"\"\n      }\n    },\n    {\n      \"column\": \"case_title\",\n      \"properties\": {\n        \"dtype\": \"string\",\n        \"num_unique_values\": 18581,\n        \"samples\": [\n          \"SZMDG v Minister for Immigration and Anor [2008] FMCA 1075\",\n          \"Venus Adult Shops Pty Ltd and Others v Fraserside Holdings Ltd and Another [2006] FCAFC 188 ; (2006) 157 FCR 442\",\n          \"CPSU v Telstra Corporation Ltd [2001] FCA 267 ; (2001) 107 FCR 93 \"\n        ],\n        \"semantic_type\": \"\",\n        \"description\": \"\"\n      }\n    },\n    {\n      \"column\": \"case_text\",\n      \"properties\": {\n        \"dtype\": \"string\",\n        \"num_unique_values\": 17920,\n        \"samples\": [\n          \"need not recount in further detail the claims of estoppel, unfairness and waiver. In relation to \\\"substantive unfairness\\\", the applicants cite R v Inland Revenue Commissioner; Ex parte Preston [1984] UKHL 5 ; [1985] AC 835 at 866 7 (Templeman LJ) (for the principle that judicial review may be warranted where a commissioner's decision is unfair and amounting to a breach of contract or breach of representation, and therefore within the ambit of an abuse of power). They acknowledge the note of caution in relation to this principle that was sounded by Lehane J in Daihatsu Australia Pty Ltd v Deputy Commissioner of Taxation (2001) 182 ALR 239 (\\\" Daihatsu \\\") at [51] (that note of caution being that such a principle has not been the subject of extended consideration by Australian courts), but say that at the trial, they will submit that the principles of administrative law in Australia are developing to take account of a form of doctrine of substantive unfairness of the kind described by Lord Templeman. REASONING Order 20 of the FCRs and s 31A of the FCA Act Deloitte and Daihatsu concerned notices issued by the Commissioner under s 264 of the ITAA. In Deloitte , Goldberg J (at 451) expressed the opinion, and the Commissioner did not dispute, that the Commissioner's delegate was bound to have regard to the Guidelines when deciding to issue a notice under s 264. His Honour said that for this reason it was not necessary for him to deal with the Commissioner's submission that the Guidelines were not a source of rights. In Daihatsu , the taxpayer sought relief under s 16 of the AD(JR) Act and s 39B of the Judiciary Act in respect of notices issued under s 264 of the ITAA. Lehane J (at [68]) refused relief on the merits.\",\n          \"The Bankruptcy Act , it must nevertheless be accepted, confers no entitlement to trial by jury: Hubner v Australia and New Zealand Banking Group Ltd [1999] FCA 385 , 88 FCR 445. Cooper, Kiefel and Tamberlin JJ were there addressing s 30(3) of the 1966 Act, and not s 30(1)(i), but relevantly concluded: Jury [27] Mr and Mrs Hubner also say that the bankruptcy proceedings should be heard with a jury pursuant to s30(3) of the Act. That provision reads: \\\"(3) If in a proceeding before the Court under this Act a question of fact arises that a party desires to have trial before a jury, the Court may, if it thinks fit, direct the trial to that question to be had before a jury, and the trial may be had accordingly in the same manner as if it were the trail of an issue of fact in an action.\\\" [28] The appellants say that it is a civil right of all Queenslanders to have a trial by jury under s30(3). [29] In view of the approach taken by his Honour, which we consider to be correct, the question of a jury trial does not arise; so we do not accept the applicants' submissions in relation to this matter. Moreover, there was no relevant question of fact raised for a jury to determine. The Court under s30(3) has a wide discretion and there is no entitlement to a jury trial given by the section. We are not persuaded, given the necessity for a clear case of error to be shown on a matter of principle that there is any justification for ordering a jury trial in the present case. We see no error on the part of his Honour. Section 30(3) is not beyond the legislative competence of Commonwealth Parliament and is not invalid because of any unfounded assertion that it \\\" undermines or perverts \\\" the Constitution : Commonwealth Bank of Australia v Heinrich [2000] FCA 1255 at [18] [25] per Mansfield J. Nor is there any entitlement to trial by jury arising by reason of either some \\\" unwritten law \\\" such as natural justice or by reason of Schedule 2 to the Human Rights and Equal Opportunity Commission Act 1986 (Cth): Hubner v ANZ Banking Group Ltd [2000] FCA 140 at [9] [10], [2000] FCA 140 ; 101 FCR 71 at 73 per Drummond, Dowsett and Katz JJ.\",\n          \"The Tribunal found that \\\"it is difficult to consider a commercial funeral business as having an objective of the advancement of religion\\\" and that \\\"the business was a commercial operation for the purpose of making a commercial profit\\\" . The Tribunal relied on the decision of Priestley JA (with whom McHugh JA agreed) in Glebe Administration Board v Commissioner of Pay-roll Tax (1987) 10 NSWLR 352, where his Honour said, at 365: \\\"In my opinion the Board was not at any relevant time a religious institution. It was a statutory corporation doing commercial work within limitations fixed by reference to religious principles. It was staffed by persons who wished to observe the religious principles giving rise to the limitations on the Board's commercial activities. The property in its ownership both increased in value and gave rise to revenue. Capital was held for the benefit of a religious institution and large amounts of revenue were handed over to that institution. To my mind all these matters result in it being accurate to describe the Board as a legal entity working in a commercial area, guiding its commercial conduct by the principles of a religious institution and, in ordinary language, working for that religious institution. I do not think that this legal entity can either by an ordinary or a technical use of language be accurately called a religious institution.\\\" 57 This case does not aid the Commissioner. Its facts are distinguishable from the present case. It concerned a statutory body exercising property ownership and investment powers given to it by statute. The Board was required by statute to hold and invest church property and to deal with any proceeds. Its purposes were thus defined by statute. This is to be contrasted with Word, which is an independent organisation which has chosen to apply funds that it raises to Wycliffe and other religious bodies. The Board's manner of operation was also different from Word's. It lent money for short terms at commercial interest rates and applied funds for church activities generally, rather than the specific activities supported by Word. Finally, the Board claimed to be a religious institution not, as in the present case, a charitable institution. Word concedes that it cannot be a religious institution. 58 In my view, in concluding that the running of a funeral business could not advance religion, the Tribunal fell into two errors. The first was to consider the funeral business in isolation from the remainder of Word's operations. There was no evidence to suggest that, from the commencement of Bethel Funerals, Word ceased receiving money from investors. The entity claiming to be a charitable organisation is Word, not the Bethel Funerals operations of Word. Word's activities as a whole must be considered when determining whether its purposes were charitable. 59 When such a consideration is undertaken, the second error becomes clear. Word's purposes as a whole were to raise money for provision to Wycliffe and similar organisations. This was true both before and after the establishment of Bethel Funerals. It was only the manner of raising the money that changed; the purpose for doing it remained the same. The Tribunal's error appears to have involved drawing an unwarranted distinction between active and passive investment. It seems to have assumed that it may be charitable for an organisation to receive funds from investors who may or may not have been encouraged to support its goals and ideals, but that it cannot be charitable for the organisation to actively establish a business to derive similar income. 60 The Tribunal's distinction is at odds with the practice of contemporary charitable organisations. With the decline of the welfare state, charitable organisations are expected to do more with the same resources. Reliance on donations alone will, in many cases, be insufficient. Hence many charitable organisations have established business ventures to generate the income necessary to support their activities. There may appear to be a vast difference between selling lamingtons at a church f&ecirc;te and selling funeral services, but where the object of raising the funds is the same, I can no see no reason to draw a legal distinction between the two. I again refer in this connection to the cases referred to at [33]-[35]. 61 It follows that, for the period from 1 July 2000 to 1 July 2002, Word was a charitable institution under item 1.1 of the table at s 50-5 of the Act and is entitled to endorsement accordingly. The cross-appeal is therefore allowed. Word's alternative argument that its articles and memorandum of association created an instrument of trust need not be considered. 62 As set out above at [16], Word established the Foundation from 1 July 2002 to carry on the business of Bethel Funerals. This effected a significant change from the position prior to that date, when Bethel Funerals was merely a part of Word rather than run through a separate legal entity. The Tribunal held that \\\"the activities after 1 July 2002, being the same as those prior to 1996, entitle [Word] to endorsement as a charitable institution from that date.\\\"\"\n        ],\n        \"semantic_type\": \"\",\n        \"description\": \"\"\n      }\n    }\n  ]\n}"
            }
          },
          "metadata": {},
          "execution_count": 4
        }
      ],
      "source": [
        "df.head()"
      ]
    },
    {
      "cell_type": "markdown",
      "metadata": {
        "id": "uingi-Y03RK4"
      },
      "source": [
        "# **Preprocessing the data**"
      ]
    },
    {
      "cell_type": "code",
      "execution_count": 5,
      "metadata": {
        "id": "srkSZpgiAJZE"
      },
      "outputs": [],
      "source": [
        "df['case_text_sum'] = df[\"case_title\"] + df[\"case_text\"]"
      ]
    },
    {
      "cell_type": "code",
      "execution_count": 6,
      "metadata": {
        "colab": {
          "base_uri": "https://localhost:8080/",
          "height": 293
        },
        "id": "aDQczdTRAL0F",
        "outputId": "35f1ad17-38da-4a3d-99c2-6764ecf40e49"
      },
      "outputs": [
        {
          "output_type": "execute_result",
          "data": {
            "text/plain": [
              "  case_id case_outcome                                         case_title  \\\n",
              "0   Case1        cited  Alpine Hardwood (Aust) Pty Ltd v Hardys Pty Lt...   \n",
              "1   Case2        cited  Black v Lipovac [1998] FCA 699 ; (1998) 217 AL...   \n",
              "2   Case3        cited  Colgate Palmolive Co v Cussons Pty Ltd (1993) ...   \n",
              "3   Case4        cited  Dais Studio Pty Ltd v Bullett Creative Pty Ltd...   \n",
              "4   Case5        cited  Dr Martens Australia Pty Ltd v Figgins Holding...   \n",
              "\n",
              "                                           case_text  \\\n",
              "0  Ordinarily that discretion will be exercised s...   \n",
              "1  The general principles governing the exercise ...   \n",
              "2  Ordinarily that discretion will be exercised s...   \n",
              "3  The general principles governing the exercise ...   \n",
              "4  The preceding general principles inform the ex...   \n",
              "\n",
              "                                       case_text_sum  \n",
              "0  Alpine Hardwood (Aust) Pty Ltd v Hardys Pty Lt...  \n",
              "1  Black v Lipovac [1998] FCA 699 ; (1998) 217 AL...  \n",
              "2  Colgate Palmolive Co v Cussons Pty Ltd (1993) ...  \n",
              "3  Dais Studio Pty Ltd v Bullett Creative Pty Ltd...  \n",
              "4  Dr Martens Australia Pty Ltd v Figgins Holding...  "
            ],
            "text/html": [
              "\n",
              "  <div id=\"df-f87549f5-bf66-4909-b395-a455e485cdc9\" class=\"colab-df-container\">\n",
              "    <div>\n",
              "<style scoped>\n",
              "    .dataframe tbody tr th:only-of-type {\n",
              "        vertical-align: middle;\n",
              "    }\n",
              "\n",
              "    .dataframe tbody tr th {\n",
              "        vertical-align: top;\n",
              "    }\n",
              "\n",
              "    .dataframe thead th {\n",
              "        text-align: right;\n",
              "    }\n",
              "</style>\n",
              "<table border=\"1\" class=\"dataframe\">\n",
              "  <thead>\n",
              "    <tr style=\"text-align: right;\">\n",
              "      <th></th>\n",
              "      <th>case_id</th>\n",
              "      <th>case_outcome</th>\n",
              "      <th>case_title</th>\n",
              "      <th>case_text</th>\n",
              "      <th>case_text_sum</th>\n",
              "    </tr>\n",
              "  </thead>\n",
              "  <tbody>\n",
              "    <tr>\n",
              "      <th>0</th>\n",
              "      <td>Case1</td>\n",
              "      <td>cited</td>\n",
              "      <td>Alpine Hardwood (Aust) Pty Ltd v Hardys Pty Lt...</td>\n",
              "      <td>Ordinarily that discretion will be exercised s...</td>\n",
              "      <td>Alpine Hardwood (Aust) Pty Ltd v Hardys Pty Lt...</td>\n",
              "    </tr>\n",
              "    <tr>\n",
              "      <th>1</th>\n",
              "      <td>Case2</td>\n",
              "      <td>cited</td>\n",
              "      <td>Black v Lipovac [1998] FCA 699 ; (1998) 217 AL...</td>\n",
              "      <td>The general principles governing the exercise ...</td>\n",
              "      <td>Black v Lipovac [1998] FCA 699 ; (1998) 217 AL...</td>\n",
              "    </tr>\n",
              "    <tr>\n",
              "      <th>2</th>\n",
              "      <td>Case3</td>\n",
              "      <td>cited</td>\n",
              "      <td>Colgate Palmolive Co v Cussons Pty Ltd (1993) ...</td>\n",
              "      <td>Ordinarily that discretion will be exercised s...</td>\n",
              "      <td>Colgate Palmolive Co v Cussons Pty Ltd (1993) ...</td>\n",
              "    </tr>\n",
              "    <tr>\n",
              "      <th>3</th>\n",
              "      <td>Case4</td>\n",
              "      <td>cited</td>\n",
              "      <td>Dais Studio Pty Ltd v Bullett Creative Pty Ltd...</td>\n",
              "      <td>The general principles governing the exercise ...</td>\n",
              "      <td>Dais Studio Pty Ltd v Bullett Creative Pty Ltd...</td>\n",
              "    </tr>\n",
              "    <tr>\n",
              "      <th>4</th>\n",
              "      <td>Case5</td>\n",
              "      <td>cited</td>\n",
              "      <td>Dr Martens Australia Pty Ltd v Figgins Holding...</td>\n",
              "      <td>The preceding general principles inform the ex...</td>\n",
              "      <td>Dr Martens Australia Pty Ltd v Figgins Holding...</td>\n",
              "    </tr>\n",
              "  </tbody>\n",
              "</table>\n",
              "</div>\n",
              "    <div class=\"colab-df-buttons\">\n",
              "\n",
              "  <div class=\"colab-df-container\">\n",
              "    <button class=\"colab-df-convert\" onclick=\"convertToInteractive('df-f87549f5-bf66-4909-b395-a455e485cdc9')\"\n",
              "            title=\"Convert this dataframe to an interactive table.\"\n",
              "            style=\"display:none;\">\n",
              "\n",
              "  <svg xmlns=\"http://www.w3.org/2000/svg\" height=\"24px\" viewBox=\"0 -960 960 960\">\n",
              "    <path d=\"M120-120v-720h720v720H120Zm60-500h600v-160H180v160Zm220 220h160v-160H400v160Zm0 220h160v-160H400v160ZM180-400h160v-160H180v160Zm440 0h160v-160H620v160ZM180-180h160v-160H180v160Zm440 0h160v-160H620v160Z\"/>\n",
              "  </svg>\n",
              "    </button>\n",
              "\n",
              "  <style>\n",
              "    .colab-df-container {\n",
              "      display:flex;\n",
              "      gap: 12px;\n",
              "    }\n",
              "\n",
              "    .colab-df-convert {\n",
              "      background-color: #E8F0FE;\n",
              "      border: none;\n",
              "      border-radius: 50%;\n",
              "      cursor: pointer;\n",
              "      display: none;\n",
              "      fill: #1967D2;\n",
              "      height: 32px;\n",
              "      padding: 0 0 0 0;\n",
              "      width: 32px;\n",
              "    }\n",
              "\n",
              "    .colab-df-convert:hover {\n",
              "      background-color: #E2EBFA;\n",
              "      box-shadow: 0px 1px 2px rgba(60, 64, 67, 0.3), 0px 1px 3px 1px rgba(60, 64, 67, 0.15);\n",
              "      fill: #174EA6;\n",
              "    }\n",
              "\n",
              "    .colab-df-buttons div {\n",
              "      margin-bottom: 4px;\n",
              "    }\n",
              "\n",
              "    [theme=dark] .colab-df-convert {\n",
              "      background-color: #3B4455;\n",
              "      fill: #D2E3FC;\n",
              "    }\n",
              "\n",
              "    [theme=dark] .colab-df-convert:hover {\n",
              "      background-color: #434B5C;\n",
              "      box-shadow: 0px 1px 3px 1px rgba(0, 0, 0, 0.15);\n",
              "      filter: drop-shadow(0px 1px 2px rgba(0, 0, 0, 0.3));\n",
              "      fill: #FFFFFF;\n",
              "    }\n",
              "  </style>\n",
              "\n",
              "    <script>\n",
              "      const buttonEl =\n",
              "        document.querySelector('#df-f87549f5-bf66-4909-b395-a455e485cdc9 button.colab-df-convert');\n",
              "      buttonEl.style.display =\n",
              "        google.colab.kernel.accessAllowed ? 'block' : 'none';\n",
              "\n",
              "      async function convertToInteractive(key) {\n",
              "        const element = document.querySelector('#df-f87549f5-bf66-4909-b395-a455e485cdc9');\n",
              "        const dataTable =\n",
              "          await google.colab.kernel.invokeFunction('convertToInteractive',\n",
              "                                                    [key], {});\n",
              "        if (!dataTable) return;\n",
              "\n",
              "        const docLinkHtml = 'Like what you see? Visit the ' +\n",
              "          '<a target=\"_blank\" href=https://colab.research.google.com/notebooks/data_table.ipynb>data table notebook</a>'\n",
              "          + ' to learn more about interactive tables.';\n",
              "        element.innerHTML = '';\n",
              "        dataTable['output_type'] = 'display_data';\n",
              "        await google.colab.output.renderOutput(dataTable, element);\n",
              "        const docLink = document.createElement('div');\n",
              "        docLink.innerHTML = docLinkHtml;\n",
              "        element.appendChild(docLink);\n",
              "      }\n",
              "    </script>\n",
              "  </div>\n",
              "\n",
              "\n",
              "<div id=\"df-41a8a6b4-7d1d-4c53-8636-ac350b0e5333\">\n",
              "  <button class=\"colab-df-quickchart\" onclick=\"quickchart('df-41a8a6b4-7d1d-4c53-8636-ac350b0e5333')\"\n",
              "            title=\"Suggest charts\"\n",
              "            style=\"display:none;\">\n",
              "\n",
              "<svg xmlns=\"http://www.w3.org/2000/svg\" height=\"24px\"viewBox=\"0 0 24 24\"\n",
              "     width=\"24px\">\n",
              "    <g>\n",
              "        <path d=\"M19 3H5c-1.1 0-2 .9-2 2v14c0 1.1.9 2 2 2h14c1.1 0 2-.9 2-2V5c0-1.1-.9-2-2-2zM9 17H7v-7h2v7zm4 0h-2V7h2v10zm4 0h-2v-4h2v4z\"/>\n",
              "    </g>\n",
              "</svg>\n",
              "  </button>\n",
              "\n",
              "<style>\n",
              "  .colab-df-quickchart {\n",
              "      --bg-color: #E8F0FE;\n",
              "      --fill-color: #1967D2;\n",
              "      --hover-bg-color: #E2EBFA;\n",
              "      --hover-fill-color: #174EA6;\n",
              "      --disabled-fill-color: #AAA;\n",
              "      --disabled-bg-color: #DDD;\n",
              "  }\n",
              "\n",
              "  [theme=dark] .colab-df-quickchart {\n",
              "      --bg-color: #3B4455;\n",
              "      --fill-color: #D2E3FC;\n",
              "      --hover-bg-color: #434B5C;\n",
              "      --hover-fill-color: #FFFFFF;\n",
              "      --disabled-bg-color: #3B4455;\n",
              "      --disabled-fill-color: #666;\n",
              "  }\n",
              "\n",
              "  .colab-df-quickchart {\n",
              "    background-color: var(--bg-color);\n",
              "    border: none;\n",
              "    border-radius: 50%;\n",
              "    cursor: pointer;\n",
              "    display: none;\n",
              "    fill: var(--fill-color);\n",
              "    height: 32px;\n",
              "    padding: 0;\n",
              "    width: 32px;\n",
              "  }\n",
              "\n",
              "  .colab-df-quickchart:hover {\n",
              "    background-color: var(--hover-bg-color);\n",
              "    box-shadow: 0 1px 2px rgba(60, 64, 67, 0.3), 0 1px 3px 1px rgba(60, 64, 67, 0.15);\n",
              "    fill: var(--button-hover-fill-color);\n",
              "  }\n",
              "\n",
              "  .colab-df-quickchart-complete:disabled,\n",
              "  .colab-df-quickchart-complete:disabled:hover {\n",
              "    background-color: var(--disabled-bg-color);\n",
              "    fill: var(--disabled-fill-color);\n",
              "    box-shadow: none;\n",
              "  }\n",
              "\n",
              "  .colab-df-spinner {\n",
              "    border: 2px solid var(--fill-color);\n",
              "    border-color: transparent;\n",
              "    border-bottom-color: var(--fill-color);\n",
              "    animation:\n",
              "      spin 1s steps(1) infinite;\n",
              "  }\n",
              "\n",
              "  @keyframes spin {\n",
              "    0% {\n",
              "      border-color: transparent;\n",
              "      border-bottom-color: var(--fill-color);\n",
              "      border-left-color: var(--fill-color);\n",
              "    }\n",
              "    20% {\n",
              "      border-color: transparent;\n",
              "      border-left-color: var(--fill-color);\n",
              "      border-top-color: var(--fill-color);\n",
              "    }\n",
              "    30% {\n",
              "      border-color: transparent;\n",
              "      border-left-color: var(--fill-color);\n",
              "      border-top-color: var(--fill-color);\n",
              "      border-right-color: var(--fill-color);\n",
              "    }\n",
              "    40% {\n",
              "      border-color: transparent;\n",
              "      border-right-color: var(--fill-color);\n",
              "      border-top-color: var(--fill-color);\n",
              "    }\n",
              "    60% {\n",
              "      border-color: transparent;\n",
              "      border-right-color: var(--fill-color);\n",
              "    }\n",
              "    80% {\n",
              "      border-color: transparent;\n",
              "      border-right-color: var(--fill-color);\n",
              "      border-bottom-color: var(--fill-color);\n",
              "    }\n",
              "    90% {\n",
              "      border-color: transparent;\n",
              "      border-bottom-color: var(--fill-color);\n",
              "    }\n",
              "  }\n",
              "</style>\n",
              "\n",
              "  <script>\n",
              "    async function quickchart(key) {\n",
              "      const quickchartButtonEl =\n",
              "        document.querySelector('#' + key + ' button');\n",
              "      quickchartButtonEl.disabled = true;  // To prevent multiple clicks.\n",
              "      quickchartButtonEl.classList.add('colab-df-spinner');\n",
              "      try {\n",
              "        const charts = await google.colab.kernel.invokeFunction(\n",
              "            'suggestCharts', [key], {});\n",
              "      } catch (error) {\n",
              "        console.error('Error during call to suggestCharts:', error);\n",
              "      }\n",
              "      quickchartButtonEl.classList.remove('colab-df-spinner');\n",
              "      quickchartButtonEl.classList.add('colab-df-quickchart-complete');\n",
              "    }\n",
              "    (() => {\n",
              "      let quickchartButtonEl =\n",
              "        document.querySelector('#df-41a8a6b4-7d1d-4c53-8636-ac350b0e5333 button');\n",
              "      quickchartButtonEl.style.display =\n",
              "        google.colab.kernel.accessAllowed ? 'block' : 'none';\n",
              "    })();\n",
              "  </script>\n",
              "</div>\n",
              "\n",
              "    </div>\n",
              "  </div>\n"
            ],
            "application/vnd.google.colaboratory.intrinsic+json": {
              "type": "dataframe",
              "variable_name": "df",
              "summary": "{\n  \"name\": \"df\",\n  \"rows\": 24985,\n  \"fields\": [\n    {\n      \"column\": \"case_id\",\n      \"properties\": {\n        \"dtype\": \"string\",\n        \"num_unique_values\": 24985,\n        \"samples\": [\n          \"Case15689\",\n          \"Case9347\",\n          \"Case8483\"\n        ],\n        \"semantic_type\": \"\",\n        \"description\": \"\"\n      }\n    },\n    {\n      \"column\": \"case_outcome\",\n      \"properties\": {\n        \"dtype\": \"category\",\n        \"num_unique_values\": 10,\n        \"samples\": [\n          \"affirmed\",\n          \"applied\",\n          \"considered\"\n        ],\n        \"semantic_type\": \"\",\n        \"description\": \"\"\n      }\n    },\n    {\n      \"column\": \"case_title\",\n      \"properties\": {\n        \"dtype\": \"string\",\n        \"num_unique_values\": 18581,\n        \"samples\": [\n          \"SZMDG v Minister for Immigration and Anor [2008] FMCA 1075\",\n          \"Venus Adult Shops Pty Ltd and Others v Fraserside Holdings Ltd and Another [2006] FCAFC 188 ; (2006) 157 FCR 442\",\n          \"CPSU v Telstra Corporation Ltd [2001] FCA 267 ; (2001) 107 FCR 93 \"\n        ],\n        \"semantic_type\": \"\",\n        \"description\": \"\"\n      }\n    },\n    {\n      \"column\": \"case_text\",\n      \"properties\": {\n        \"dtype\": \"string\",\n        \"num_unique_values\": 17920,\n        \"samples\": [\n          \"need not recount in further detail the claims of estoppel, unfairness and waiver. In relation to \\\"substantive unfairness\\\", the applicants cite R v Inland Revenue Commissioner; Ex parte Preston [1984] UKHL 5 ; [1985] AC 835 at 866 7 (Templeman LJ) (for the principle that judicial review may be warranted where a commissioner's decision is unfair and amounting to a breach of contract or breach of representation, and therefore within the ambit of an abuse of power). They acknowledge the note of caution in relation to this principle that was sounded by Lehane J in Daihatsu Australia Pty Ltd v Deputy Commissioner of Taxation (2001) 182 ALR 239 (\\\" Daihatsu \\\") at [51] (that note of caution being that such a principle has not been the subject of extended consideration by Australian courts), but say that at the trial, they will submit that the principles of administrative law in Australia are developing to take account of a form of doctrine of substantive unfairness of the kind described by Lord Templeman. REASONING Order 20 of the FCRs and s 31A of the FCA Act Deloitte and Daihatsu concerned notices issued by the Commissioner under s 264 of the ITAA. In Deloitte , Goldberg J (at 451) expressed the opinion, and the Commissioner did not dispute, that the Commissioner's delegate was bound to have regard to the Guidelines when deciding to issue a notice under s 264. His Honour said that for this reason it was not necessary for him to deal with the Commissioner's submission that the Guidelines were not a source of rights. In Daihatsu , the taxpayer sought relief under s 16 of the AD(JR) Act and s 39B of the Judiciary Act in respect of notices issued under s 264 of the ITAA. Lehane J (at [68]) refused relief on the merits.\",\n          \"The Bankruptcy Act , it must nevertheless be accepted, confers no entitlement to trial by jury: Hubner v Australia and New Zealand Banking Group Ltd [1999] FCA 385 , 88 FCR 445. Cooper, Kiefel and Tamberlin JJ were there addressing s 30(3) of the 1966 Act, and not s 30(1)(i), but relevantly concluded: Jury [27] Mr and Mrs Hubner also say that the bankruptcy proceedings should be heard with a jury pursuant to s30(3) of the Act. That provision reads: \\\"(3) If in a proceeding before the Court under this Act a question of fact arises that a party desires to have trial before a jury, the Court may, if it thinks fit, direct the trial to that question to be had before a jury, and the trial may be had accordingly in the same manner as if it were the trail of an issue of fact in an action.\\\" [28] The appellants say that it is a civil right of all Queenslanders to have a trial by jury under s30(3). [29] In view of the approach taken by his Honour, which we consider to be correct, the question of a jury trial does not arise; so we do not accept the applicants' submissions in relation to this matter. Moreover, there was no relevant question of fact raised for a jury to determine. The Court under s30(3) has a wide discretion and there is no entitlement to a jury trial given by the section. We are not persuaded, given the necessity for a clear case of error to be shown on a matter of principle that there is any justification for ordering a jury trial in the present case. We see no error on the part of his Honour. Section 30(3) is not beyond the legislative competence of Commonwealth Parliament and is not invalid because of any unfounded assertion that it \\\" undermines or perverts \\\" the Constitution : Commonwealth Bank of Australia v Heinrich [2000] FCA 1255 at [18] [25] per Mansfield J. Nor is there any entitlement to trial by jury arising by reason of either some \\\" unwritten law \\\" such as natural justice or by reason of Schedule 2 to the Human Rights and Equal Opportunity Commission Act 1986 (Cth): Hubner v ANZ Banking Group Ltd [2000] FCA 140 at [9] [10], [2000] FCA 140 ; 101 FCR 71 at 73 per Drummond, Dowsett and Katz JJ.\",\n          \"The Tribunal found that \\\"it is difficult to consider a commercial funeral business as having an objective of the advancement of religion\\\" and that \\\"the business was a commercial operation for the purpose of making a commercial profit\\\" . The Tribunal relied on the decision of Priestley JA (with whom McHugh JA agreed) in Glebe Administration Board v Commissioner of Pay-roll Tax (1987) 10 NSWLR 352, where his Honour said, at 365: \\\"In my opinion the Board was not at any relevant time a religious institution. It was a statutory corporation doing commercial work within limitations fixed by reference to religious principles. It was staffed by persons who wished to observe the religious principles giving rise to the limitations on the Board's commercial activities. The property in its ownership both increased in value and gave rise to revenue. Capital was held for the benefit of a religious institution and large amounts of revenue were handed over to that institution. To my mind all these matters result in it being accurate to describe the Board as a legal entity working in a commercial area, guiding its commercial conduct by the principles of a religious institution and, in ordinary language, working for that religious institution. I do not think that this legal entity can either by an ordinary or a technical use of language be accurately called a religious institution.\\\" 57 This case does not aid the Commissioner. Its facts are distinguishable from the present case. It concerned a statutory body exercising property ownership and investment powers given to it by statute. The Board was required by statute to hold and invest church property and to deal with any proceeds. Its purposes were thus defined by statute. This is to be contrasted with Word, which is an independent organisation which has chosen to apply funds that it raises to Wycliffe and other religious bodies. The Board's manner of operation was also different from Word's. It lent money for short terms at commercial interest rates and applied funds for church activities generally, rather than the specific activities supported by Word. Finally, the Board claimed to be a religious institution not, as in the present case, a charitable institution. Word concedes that it cannot be a religious institution. 58 In my view, in concluding that the running of a funeral business could not advance religion, the Tribunal fell into two errors. The first was to consider the funeral business in isolation from the remainder of Word's operations. There was no evidence to suggest that, from the commencement of Bethel Funerals, Word ceased receiving money from investors. The entity claiming to be a charitable organisation is Word, not the Bethel Funerals operations of Word. Word's activities as a whole must be considered when determining whether its purposes were charitable. 59 When such a consideration is undertaken, the second error becomes clear. Word's purposes as a whole were to raise money for provision to Wycliffe and similar organisations. This was true both before and after the establishment of Bethel Funerals. It was only the manner of raising the money that changed; the purpose for doing it remained the same. The Tribunal's error appears to have involved drawing an unwarranted distinction between active and passive investment. It seems to have assumed that it may be charitable for an organisation to receive funds from investors who may or may not have been encouraged to support its goals and ideals, but that it cannot be charitable for the organisation to actively establish a business to derive similar income. 60 The Tribunal's distinction is at odds with the practice of contemporary charitable organisations. With the decline of the welfare state, charitable organisations are expected to do more with the same resources. Reliance on donations alone will, in many cases, be insufficient. Hence many charitable organisations have established business ventures to generate the income necessary to support their activities. There may appear to be a vast difference between selling lamingtons at a church f&ecirc;te and selling funeral services, but where the object of raising the funds is the same, I can no see no reason to draw a legal distinction between the two. I again refer in this connection to the cases referred to at [33]-[35]. 61 It follows that, for the period from 1 July 2000 to 1 July 2002, Word was a charitable institution under item 1.1 of the table at s 50-5 of the Act and is entitled to endorsement accordingly. The cross-appeal is therefore allowed. Word's alternative argument that its articles and memorandum of association created an instrument of trust need not be considered. 62 As set out above at [16], Word established the Foundation from 1 July 2002 to carry on the business of Bethel Funerals. This effected a significant change from the position prior to that date, when Bethel Funerals was merely a part of Word rather than run through a separate legal entity. The Tribunal held that \\\"the activities after 1 July 2002, being the same as those prior to 1996, entitle [Word] to endorsement as a charitable institution from that date.\\\"\"\n        ],\n        \"semantic_type\": \"\",\n        \"description\": \"\"\n      }\n    },\n    {\n      \"column\": \"case_text_sum\",\n      \"properties\": {\n        \"dtype\": \"string\",\n        \"num_unique_values\": 24764,\n        \"samples\": [\n          \"Merchant Service Guild of Australia v Sydney Steam Collier Owners &amp; Coal Stevedores Association (1958) 1 FLR 248Counsel for the applicant contended that the past conduct of the parties could be relied upon as an aid in the construction of the Certified Agreement. There is authority that, if a provision has appeared in a series of agreements between the same parties, and if they can be shown to have conducted themselves according to a common understanding of the meaning of that provision, then it can be taken that they have agreed that the term should continue to have the commonly understood meaning in the current agreement. See Merchant Service Guild of Australia v Sydney Steam Collier Owners &amp; Coal Stevedores Association (1958) 1 FLR 248 at 251 per Spicer CJ, 254 per Dunphy J and 257 per Morgan J, and Printing &amp; Kindred Industries Union v Davies Bros Ltd (1986) 18 IR 444 at 452-453. It is necessary to take great care in the application of this limited principle, to avoid infringing the general principle that the conduct of parties to an agreement cannot be taken into account in construing the agreement. For the limited principle to operate, there must be clear evidence that the parties have acted upon a common understanding as to the meaning of the relevant provision and not for other reasons, such as common inadvertence as to its true meaning. See Australian Liquor, Hospitality and Miscellaneous Workers Union v Prestige Property Services Pty Ltd [2006] FCA 11 at [44] .\",\n          \"Trade Practices Commission v Stihl Chain Saws (Australia) Pty Ltd (1978) ATPR 40-091course, a penalty should not be so high as to be oppressive, but it is important in this regard to recall exactly what is meant by that sentiment. That was, with respect, aptly and accurately stated by Merkel J in Australian Competition and Consumer Commission v Leahy Petroleum Pty Ltd (No 2) [2005] FCA 254 ; (2005) 215 ALR 281 (Leahy Petroleum (No 2)) at para 9 as follows, (and this is a reference to observations made by Smithers J in a case, Trade Practices Commission v Stihl Chain Saws (Australia) Pty Ltd (1978) ATPR 40-091 , which had been referred to by Burchett and Kiefel JJ in NW Frozen Foods): I therefore respectfully agree with the observation of Smithers J, referred to by Burchett and Kiefel JJ in NW Frozen Foods, to the effect that, a penalty that is of no greater than is necessary to achieve the object of general deterrence, will not be oppressive.\",\n          \"Grassby v The Queen [1989] HCA 45 ; (1989) 168 CLR 1reaching that conclusion I acknowledge the force of the respondent's reasoning. In terms of avoiding prejudice to the investigation there is much to be said for a direction which would prevent Ms Boots from assisting the applicant in preparing for the examination. However, I do not think that because a direction preventing a solicitor acting or appearing for an examinee at an examination is justified by reference to the need to avoid prejudice to the investigation that that in turn means that any direction that might avoid prejudice to the investigation is within power. The question is what can be implied from the statutory provisions. In the case of inferior courts or tribunals the test for implying a power is a reasonably demanding one and a court will look carefully at the statutory provisions to discern if the particular power is legally ancillary to some other power which the inferior court or tribunal possesses, or is reasonably required for the purposes of some other such power or powers: Grassby v The Queen [1989] HCA 45 ; (1989) 168 CLR 1 per Dawson J at 16-17; Pelechowski v Registrar, Court of Appeal (NSW) [1999] HCA 19 ; (1999) 198 CLR 435; Medical Board of SA v N, JRP (2006) 93 SASR 546. There is no reason to think that a similar test does not apply in the case of an ABC Commissioner conducting an investigation under the Act. The power to direct that a solicitor not act for a party is a significant power and, whilst it may not be correct to say that a party has a right to be represented by a solicitor of his or her own choice, the Courts have looked carefully at the circumstances before making an order that a solicitor not act for a party: Rakusen v Ellis, Munday &amp; Clarke [1912] 1 Ch 831. Courts have made such orders either in the exercise of their inherent jurisdiction (Mr K Mason QC, 'The Inherent Jurisdiction of the Court' (1983) Australian Law Journal 449) or, put another way, their special jurisdiction over solicitors who are officers of the court ( Rakusen v Ellis, Munday &amp; Clarke (supra) per Cozens-Hardy MR at 835) or by reference to a substantive doctrine of law such as the need to protect confidential information. Clearly, the ABC Commissioner does not have such powers and I do not think that there are sufficiently strong indications in the statutory provisions to conclude that there is an implied statutory power to make a direction which goes beyond preventing a solicitor from acting or appearing for an examinee at an examination.\"\n        ],\n        \"semantic_type\": \"\",\n        \"description\": \"\"\n      }\n    }\n  ]\n}"
            }
          },
          "metadata": {},
          "execution_count": 6
        }
      ],
      "source": [
        "df.head()"
      ]
    },
    {
      "cell_type": "code",
      "execution_count": 7,
      "metadata": {
        "id": "f0ZTx_5PANQ0"
      },
      "outputs": [],
      "source": [
        "df=df.drop(columns=['case_text'])"
      ]
    },
    {
      "cell_type": "code",
      "execution_count": 8,
      "metadata": {
        "id": "JHPzq4F7AP22"
      },
      "outputs": [],
      "source": [
        "df=df.rename(columns={'case_text_sum':'case_text'})"
      ]
    },
    {
      "cell_type": "code",
      "execution_count": 9,
      "metadata": {
        "id": "HNpyh9hGARt4"
      },
      "outputs": [],
      "source": [
        "df=df.drop(columns=['case_id','case_title'])"
      ]
    },
    {
      "cell_type": "code",
      "execution_count": 10,
      "metadata": {
        "colab": {
          "base_uri": "https://localhost:8080/",
          "height": 206
        },
        "id": "9rZQ-hEWATYm",
        "outputId": "6c8bce21-72a4-4cb4-e9fe-0c1d03aae247"
      },
      "outputs": [
        {
          "output_type": "execute_result",
          "data": {
            "text/plain": [
              "  case_outcome                                          case_text\n",
              "0        cited  Alpine Hardwood (Aust) Pty Ltd v Hardys Pty Lt...\n",
              "1        cited  Black v Lipovac [1998] FCA 699 ; (1998) 217 AL...\n",
              "2        cited  Colgate Palmolive Co v Cussons Pty Ltd (1993) ...\n",
              "3        cited  Dais Studio Pty Ltd v Bullett Creative Pty Ltd...\n",
              "4        cited  Dr Martens Australia Pty Ltd v Figgins Holding..."
            ],
            "text/html": [
              "\n",
              "  <div id=\"df-927e008a-44f2-456c-866c-bdedfb40ea8d\" class=\"colab-df-container\">\n",
              "    <div>\n",
              "<style scoped>\n",
              "    .dataframe tbody tr th:only-of-type {\n",
              "        vertical-align: middle;\n",
              "    }\n",
              "\n",
              "    .dataframe tbody tr th {\n",
              "        vertical-align: top;\n",
              "    }\n",
              "\n",
              "    .dataframe thead th {\n",
              "        text-align: right;\n",
              "    }\n",
              "</style>\n",
              "<table border=\"1\" class=\"dataframe\">\n",
              "  <thead>\n",
              "    <tr style=\"text-align: right;\">\n",
              "      <th></th>\n",
              "      <th>case_outcome</th>\n",
              "      <th>case_text</th>\n",
              "    </tr>\n",
              "  </thead>\n",
              "  <tbody>\n",
              "    <tr>\n",
              "      <th>0</th>\n",
              "      <td>cited</td>\n",
              "      <td>Alpine Hardwood (Aust) Pty Ltd v Hardys Pty Lt...</td>\n",
              "    </tr>\n",
              "    <tr>\n",
              "      <th>1</th>\n",
              "      <td>cited</td>\n",
              "      <td>Black v Lipovac [1998] FCA 699 ; (1998) 217 AL...</td>\n",
              "    </tr>\n",
              "    <tr>\n",
              "      <th>2</th>\n",
              "      <td>cited</td>\n",
              "      <td>Colgate Palmolive Co v Cussons Pty Ltd (1993) ...</td>\n",
              "    </tr>\n",
              "    <tr>\n",
              "      <th>3</th>\n",
              "      <td>cited</td>\n",
              "      <td>Dais Studio Pty Ltd v Bullett Creative Pty Ltd...</td>\n",
              "    </tr>\n",
              "    <tr>\n",
              "      <th>4</th>\n",
              "      <td>cited</td>\n",
              "      <td>Dr Martens Australia Pty Ltd v Figgins Holding...</td>\n",
              "    </tr>\n",
              "  </tbody>\n",
              "</table>\n",
              "</div>\n",
              "    <div class=\"colab-df-buttons\">\n",
              "\n",
              "  <div class=\"colab-df-container\">\n",
              "    <button class=\"colab-df-convert\" onclick=\"convertToInteractive('df-927e008a-44f2-456c-866c-bdedfb40ea8d')\"\n",
              "            title=\"Convert this dataframe to an interactive table.\"\n",
              "            style=\"display:none;\">\n",
              "\n",
              "  <svg xmlns=\"http://www.w3.org/2000/svg\" height=\"24px\" viewBox=\"0 -960 960 960\">\n",
              "    <path d=\"M120-120v-720h720v720H120Zm60-500h600v-160H180v160Zm220 220h160v-160H400v160Zm0 220h160v-160H400v160ZM180-400h160v-160H180v160Zm440 0h160v-160H620v160ZM180-180h160v-160H180v160Zm440 0h160v-160H620v160Z\"/>\n",
              "  </svg>\n",
              "    </button>\n",
              "\n",
              "  <style>\n",
              "    .colab-df-container {\n",
              "      display:flex;\n",
              "      gap: 12px;\n",
              "    }\n",
              "\n",
              "    .colab-df-convert {\n",
              "      background-color: #E8F0FE;\n",
              "      border: none;\n",
              "      border-radius: 50%;\n",
              "      cursor: pointer;\n",
              "      display: none;\n",
              "      fill: #1967D2;\n",
              "      height: 32px;\n",
              "      padding: 0 0 0 0;\n",
              "      width: 32px;\n",
              "    }\n",
              "\n",
              "    .colab-df-convert:hover {\n",
              "      background-color: #E2EBFA;\n",
              "      box-shadow: 0px 1px 2px rgba(60, 64, 67, 0.3), 0px 1px 3px 1px rgba(60, 64, 67, 0.15);\n",
              "      fill: #174EA6;\n",
              "    }\n",
              "\n",
              "    .colab-df-buttons div {\n",
              "      margin-bottom: 4px;\n",
              "    }\n",
              "\n",
              "    [theme=dark] .colab-df-convert {\n",
              "      background-color: #3B4455;\n",
              "      fill: #D2E3FC;\n",
              "    }\n",
              "\n",
              "    [theme=dark] .colab-df-convert:hover {\n",
              "      background-color: #434B5C;\n",
              "      box-shadow: 0px 1px 3px 1px rgba(0, 0, 0, 0.15);\n",
              "      filter: drop-shadow(0px 1px 2px rgba(0, 0, 0, 0.3));\n",
              "      fill: #FFFFFF;\n",
              "    }\n",
              "  </style>\n",
              "\n",
              "    <script>\n",
              "      const buttonEl =\n",
              "        document.querySelector('#df-927e008a-44f2-456c-866c-bdedfb40ea8d button.colab-df-convert');\n",
              "      buttonEl.style.display =\n",
              "        google.colab.kernel.accessAllowed ? 'block' : 'none';\n",
              "\n",
              "      async function convertToInteractive(key) {\n",
              "        const element = document.querySelector('#df-927e008a-44f2-456c-866c-bdedfb40ea8d');\n",
              "        const dataTable =\n",
              "          await google.colab.kernel.invokeFunction('convertToInteractive',\n",
              "                                                    [key], {});\n",
              "        if (!dataTable) return;\n",
              "\n",
              "        const docLinkHtml = 'Like what you see? Visit the ' +\n",
              "          '<a target=\"_blank\" href=https://colab.research.google.com/notebooks/data_table.ipynb>data table notebook</a>'\n",
              "          + ' to learn more about interactive tables.';\n",
              "        element.innerHTML = '';\n",
              "        dataTable['output_type'] = 'display_data';\n",
              "        await google.colab.output.renderOutput(dataTable, element);\n",
              "        const docLink = document.createElement('div');\n",
              "        docLink.innerHTML = docLinkHtml;\n",
              "        element.appendChild(docLink);\n",
              "      }\n",
              "    </script>\n",
              "  </div>\n",
              "\n",
              "\n",
              "<div id=\"df-c48ff804-8efe-421d-8e97-0b9afe664d81\">\n",
              "  <button class=\"colab-df-quickchart\" onclick=\"quickchart('df-c48ff804-8efe-421d-8e97-0b9afe664d81')\"\n",
              "            title=\"Suggest charts\"\n",
              "            style=\"display:none;\">\n",
              "\n",
              "<svg xmlns=\"http://www.w3.org/2000/svg\" height=\"24px\"viewBox=\"0 0 24 24\"\n",
              "     width=\"24px\">\n",
              "    <g>\n",
              "        <path d=\"M19 3H5c-1.1 0-2 .9-2 2v14c0 1.1.9 2 2 2h14c1.1 0 2-.9 2-2V5c0-1.1-.9-2-2-2zM9 17H7v-7h2v7zm4 0h-2V7h2v10zm4 0h-2v-4h2v4z\"/>\n",
              "    </g>\n",
              "</svg>\n",
              "  </button>\n",
              "\n",
              "<style>\n",
              "  .colab-df-quickchart {\n",
              "      --bg-color: #E8F0FE;\n",
              "      --fill-color: #1967D2;\n",
              "      --hover-bg-color: #E2EBFA;\n",
              "      --hover-fill-color: #174EA6;\n",
              "      --disabled-fill-color: #AAA;\n",
              "      --disabled-bg-color: #DDD;\n",
              "  }\n",
              "\n",
              "  [theme=dark] .colab-df-quickchart {\n",
              "      --bg-color: #3B4455;\n",
              "      --fill-color: #D2E3FC;\n",
              "      --hover-bg-color: #434B5C;\n",
              "      --hover-fill-color: #FFFFFF;\n",
              "      --disabled-bg-color: #3B4455;\n",
              "      --disabled-fill-color: #666;\n",
              "  }\n",
              "\n",
              "  .colab-df-quickchart {\n",
              "    background-color: var(--bg-color);\n",
              "    border: none;\n",
              "    border-radius: 50%;\n",
              "    cursor: pointer;\n",
              "    display: none;\n",
              "    fill: var(--fill-color);\n",
              "    height: 32px;\n",
              "    padding: 0;\n",
              "    width: 32px;\n",
              "  }\n",
              "\n",
              "  .colab-df-quickchart:hover {\n",
              "    background-color: var(--hover-bg-color);\n",
              "    box-shadow: 0 1px 2px rgba(60, 64, 67, 0.3), 0 1px 3px 1px rgba(60, 64, 67, 0.15);\n",
              "    fill: var(--button-hover-fill-color);\n",
              "  }\n",
              "\n",
              "  .colab-df-quickchart-complete:disabled,\n",
              "  .colab-df-quickchart-complete:disabled:hover {\n",
              "    background-color: var(--disabled-bg-color);\n",
              "    fill: var(--disabled-fill-color);\n",
              "    box-shadow: none;\n",
              "  }\n",
              "\n",
              "  .colab-df-spinner {\n",
              "    border: 2px solid var(--fill-color);\n",
              "    border-color: transparent;\n",
              "    border-bottom-color: var(--fill-color);\n",
              "    animation:\n",
              "      spin 1s steps(1) infinite;\n",
              "  }\n",
              "\n",
              "  @keyframes spin {\n",
              "    0% {\n",
              "      border-color: transparent;\n",
              "      border-bottom-color: var(--fill-color);\n",
              "      border-left-color: var(--fill-color);\n",
              "    }\n",
              "    20% {\n",
              "      border-color: transparent;\n",
              "      border-left-color: var(--fill-color);\n",
              "      border-top-color: var(--fill-color);\n",
              "    }\n",
              "    30% {\n",
              "      border-color: transparent;\n",
              "      border-left-color: var(--fill-color);\n",
              "      border-top-color: var(--fill-color);\n",
              "      border-right-color: var(--fill-color);\n",
              "    }\n",
              "    40% {\n",
              "      border-color: transparent;\n",
              "      border-right-color: var(--fill-color);\n",
              "      border-top-color: var(--fill-color);\n",
              "    }\n",
              "    60% {\n",
              "      border-color: transparent;\n",
              "      border-right-color: var(--fill-color);\n",
              "    }\n",
              "    80% {\n",
              "      border-color: transparent;\n",
              "      border-right-color: var(--fill-color);\n",
              "      border-bottom-color: var(--fill-color);\n",
              "    }\n",
              "    90% {\n",
              "      border-color: transparent;\n",
              "      border-bottom-color: var(--fill-color);\n",
              "    }\n",
              "  }\n",
              "</style>\n",
              "\n",
              "  <script>\n",
              "    async function quickchart(key) {\n",
              "      const quickchartButtonEl =\n",
              "        document.querySelector('#' + key + ' button');\n",
              "      quickchartButtonEl.disabled = true;  // To prevent multiple clicks.\n",
              "      quickchartButtonEl.classList.add('colab-df-spinner');\n",
              "      try {\n",
              "        const charts = await google.colab.kernel.invokeFunction(\n",
              "            'suggestCharts', [key], {});\n",
              "      } catch (error) {\n",
              "        console.error('Error during call to suggestCharts:', error);\n",
              "      }\n",
              "      quickchartButtonEl.classList.remove('colab-df-spinner');\n",
              "      quickchartButtonEl.classList.add('colab-df-quickchart-complete');\n",
              "    }\n",
              "    (() => {\n",
              "      let quickchartButtonEl =\n",
              "        document.querySelector('#df-c48ff804-8efe-421d-8e97-0b9afe664d81 button');\n",
              "      quickchartButtonEl.style.display =\n",
              "        google.colab.kernel.accessAllowed ? 'block' : 'none';\n",
              "    })();\n",
              "  </script>\n",
              "</div>\n",
              "\n",
              "    </div>\n",
              "  </div>\n"
            ],
            "application/vnd.google.colaboratory.intrinsic+json": {
              "type": "dataframe",
              "variable_name": "df",
              "summary": "{\n  \"name\": \"df\",\n  \"rows\": 24985,\n  \"fields\": [\n    {\n      \"column\": \"case_outcome\",\n      \"properties\": {\n        \"dtype\": \"category\",\n        \"num_unique_values\": 10,\n        \"samples\": [\n          \"affirmed\",\n          \"applied\",\n          \"considered\"\n        ],\n        \"semantic_type\": \"\",\n        \"description\": \"\"\n      }\n    },\n    {\n      \"column\": \"case_text\",\n      \"properties\": {\n        \"dtype\": \"string\",\n        \"num_unique_values\": 24764,\n        \"samples\": [\n          \"Merchant Service Guild of Australia v Sydney Steam Collier Owners &amp; Coal Stevedores Association (1958) 1 FLR 248Counsel for the applicant contended that the past conduct of the parties could be relied upon as an aid in the construction of the Certified Agreement. There is authority that, if a provision has appeared in a series of agreements between the same parties, and if they can be shown to have conducted themselves according to a common understanding of the meaning of that provision, then it can be taken that they have agreed that the term should continue to have the commonly understood meaning in the current agreement. See Merchant Service Guild of Australia v Sydney Steam Collier Owners &amp; Coal Stevedores Association (1958) 1 FLR 248 at 251 per Spicer CJ, 254 per Dunphy J and 257 per Morgan J, and Printing &amp; Kindred Industries Union v Davies Bros Ltd (1986) 18 IR 444 at 452-453. It is necessary to take great care in the application of this limited principle, to avoid infringing the general principle that the conduct of parties to an agreement cannot be taken into account in construing the agreement. For the limited principle to operate, there must be clear evidence that the parties have acted upon a common understanding as to the meaning of the relevant provision and not for other reasons, such as common inadvertence as to its true meaning. See Australian Liquor, Hospitality and Miscellaneous Workers Union v Prestige Property Services Pty Ltd [2006] FCA 11 at [44] .\",\n          \"Trade Practices Commission v Stihl Chain Saws (Australia) Pty Ltd (1978) ATPR 40-091course, a penalty should not be so high as to be oppressive, but it is important in this regard to recall exactly what is meant by that sentiment. That was, with respect, aptly and accurately stated by Merkel J in Australian Competition and Consumer Commission v Leahy Petroleum Pty Ltd (No 2) [2005] FCA 254 ; (2005) 215 ALR 281 (Leahy Petroleum (No 2)) at para 9 as follows, (and this is a reference to observations made by Smithers J in a case, Trade Practices Commission v Stihl Chain Saws (Australia) Pty Ltd (1978) ATPR 40-091 , which had been referred to by Burchett and Kiefel JJ in NW Frozen Foods): I therefore respectfully agree with the observation of Smithers J, referred to by Burchett and Kiefel JJ in NW Frozen Foods, to the effect that, a penalty that is of no greater than is necessary to achieve the object of general deterrence, will not be oppressive.\",\n          \"Grassby v The Queen [1989] HCA 45 ; (1989) 168 CLR 1reaching that conclusion I acknowledge the force of the respondent's reasoning. In terms of avoiding prejudice to the investigation there is much to be said for a direction which would prevent Ms Boots from assisting the applicant in preparing for the examination. However, I do not think that because a direction preventing a solicitor acting or appearing for an examinee at an examination is justified by reference to the need to avoid prejudice to the investigation that that in turn means that any direction that might avoid prejudice to the investigation is within power. The question is what can be implied from the statutory provisions. In the case of inferior courts or tribunals the test for implying a power is a reasonably demanding one and a court will look carefully at the statutory provisions to discern if the particular power is legally ancillary to some other power which the inferior court or tribunal possesses, or is reasonably required for the purposes of some other such power or powers: Grassby v The Queen [1989] HCA 45 ; (1989) 168 CLR 1 per Dawson J at 16-17; Pelechowski v Registrar, Court of Appeal (NSW) [1999] HCA 19 ; (1999) 198 CLR 435; Medical Board of SA v N, JRP (2006) 93 SASR 546. There is no reason to think that a similar test does not apply in the case of an ABC Commissioner conducting an investigation under the Act. The power to direct that a solicitor not act for a party is a significant power and, whilst it may not be correct to say that a party has a right to be represented by a solicitor of his or her own choice, the Courts have looked carefully at the circumstances before making an order that a solicitor not act for a party: Rakusen v Ellis, Munday &amp; Clarke [1912] 1 Ch 831. Courts have made such orders either in the exercise of their inherent jurisdiction (Mr K Mason QC, 'The Inherent Jurisdiction of the Court' (1983) Australian Law Journal 449) or, put another way, their special jurisdiction over solicitors who are officers of the court ( Rakusen v Ellis, Munday &amp; Clarke (supra) per Cozens-Hardy MR at 835) or by reference to a substantive doctrine of law such as the need to protect confidential information. Clearly, the ABC Commissioner does not have such powers and I do not think that there are sufficiently strong indications in the statutory provisions to conclude that there is an implied statutory power to make a direction which goes beyond preventing a solicitor from acting or appearing for an examinee at an examination.\"\n        ],\n        \"semantic_type\": \"\",\n        \"description\": \"\"\n      }\n    }\n  ]\n}"
            }
          },
          "metadata": {},
          "execution_count": 10
        }
      ],
      "source": [
        "df.head()"
      ]
    },
    {
      "cell_type": "code",
      "execution_count": 11,
      "metadata": {
        "colab": {
          "base_uri": "https://localhost:8080/",
          "height": 175
        },
        "id": "PIfYLjn7AVTm",
        "outputId": "c64a7389-2a9e-4727-d2de-6a130f6f31d1"
      },
      "outputs": [
        {
          "output_type": "execute_result",
          "data": {
            "text/plain": [
              "       case_outcome                                          case_text\n",
              "count         24985                                              24809\n",
              "unique           10                                              24764\n",
              "top           cited  Gudjala People # 2 v Native Title Registrar [2...\n",
              "freq          12219                                                  5"
            ],
            "text/html": [
              "\n",
              "  <div id=\"df-8460c4aa-541a-49c5-9b1d-95e8f4411e8b\" class=\"colab-df-container\">\n",
              "    <div>\n",
              "<style scoped>\n",
              "    .dataframe tbody tr th:only-of-type {\n",
              "        vertical-align: middle;\n",
              "    }\n",
              "\n",
              "    .dataframe tbody tr th {\n",
              "        vertical-align: top;\n",
              "    }\n",
              "\n",
              "    .dataframe thead th {\n",
              "        text-align: right;\n",
              "    }\n",
              "</style>\n",
              "<table border=\"1\" class=\"dataframe\">\n",
              "  <thead>\n",
              "    <tr style=\"text-align: right;\">\n",
              "      <th></th>\n",
              "      <th>case_outcome</th>\n",
              "      <th>case_text</th>\n",
              "    </tr>\n",
              "  </thead>\n",
              "  <tbody>\n",
              "    <tr>\n",
              "      <th>count</th>\n",
              "      <td>24985</td>\n",
              "      <td>24809</td>\n",
              "    </tr>\n",
              "    <tr>\n",
              "      <th>unique</th>\n",
              "      <td>10</td>\n",
              "      <td>24764</td>\n",
              "    </tr>\n",
              "    <tr>\n",
              "      <th>top</th>\n",
              "      <td>cited</td>\n",
              "      <td>Gudjala People # 2 v Native Title Registrar [2...</td>\n",
              "    </tr>\n",
              "    <tr>\n",
              "      <th>freq</th>\n",
              "      <td>12219</td>\n",
              "      <td>5</td>\n",
              "    </tr>\n",
              "  </tbody>\n",
              "</table>\n",
              "</div>\n",
              "    <div class=\"colab-df-buttons\">\n",
              "\n",
              "  <div class=\"colab-df-container\">\n",
              "    <button class=\"colab-df-convert\" onclick=\"convertToInteractive('df-8460c4aa-541a-49c5-9b1d-95e8f4411e8b')\"\n",
              "            title=\"Convert this dataframe to an interactive table.\"\n",
              "            style=\"display:none;\">\n",
              "\n",
              "  <svg xmlns=\"http://www.w3.org/2000/svg\" height=\"24px\" viewBox=\"0 -960 960 960\">\n",
              "    <path d=\"M120-120v-720h720v720H120Zm60-500h600v-160H180v160Zm220 220h160v-160H400v160Zm0 220h160v-160H400v160ZM180-400h160v-160H180v160Zm440 0h160v-160H620v160ZM180-180h160v-160H180v160Zm440 0h160v-160H620v160Z\"/>\n",
              "  </svg>\n",
              "    </button>\n",
              "\n",
              "  <style>\n",
              "    .colab-df-container {\n",
              "      display:flex;\n",
              "      gap: 12px;\n",
              "    }\n",
              "\n",
              "    .colab-df-convert {\n",
              "      background-color: #E8F0FE;\n",
              "      border: none;\n",
              "      border-radius: 50%;\n",
              "      cursor: pointer;\n",
              "      display: none;\n",
              "      fill: #1967D2;\n",
              "      height: 32px;\n",
              "      padding: 0 0 0 0;\n",
              "      width: 32px;\n",
              "    }\n",
              "\n",
              "    .colab-df-convert:hover {\n",
              "      background-color: #E2EBFA;\n",
              "      box-shadow: 0px 1px 2px rgba(60, 64, 67, 0.3), 0px 1px 3px 1px rgba(60, 64, 67, 0.15);\n",
              "      fill: #174EA6;\n",
              "    }\n",
              "\n",
              "    .colab-df-buttons div {\n",
              "      margin-bottom: 4px;\n",
              "    }\n",
              "\n",
              "    [theme=dark] .colab-df-convert {\n",
              "      background-color: #3B4455;\n",
              "      fill: #D2E3FC;\n",
              "    }\n",
              "\n",
              "    [theme=dark] .colab-df-convert:hover {\n",
              "      background-color: #434B5C;\n",
              "      box-shadow: 0px 1px 3px 1px rgba(0, 0, 0, 0.15);\n",
              "      filter: drop-shadow(0px 1px 2px rgba(0, 0, 0, 0.3));\n",
              "      fill: #FFFFFF;\n",
              "    }\n",
              "  </style>\n",
              "\n",
              "    <script>\n",
              "      const buttonEl =\n",
              "        document.querySelector('#df-8460c4aa-541a-49c5-9b1d-95e8f4411e8b button.colab-df-convert');\n",
              "      buttonEl.style.display =\n",
              "        google.colab.kernel.accessAllowed ? 'block' : 'none';\n",
              "\n",
              "      async function convertToInteractive(key) {\n",
              "        const element = document.querySelector('#df-8460c4aa-541a-49c5-9b1d-95e8f4411e8b');\n",
              "        const dataTable =\n",
              "          await google.colab.kernel.invokeFunction('convertToInteractive',\n",
              "                                                    [key], {});\n",
              "        if (!dataTable) return;\n",
              "\n",
              "        const docLinkHtml = 'Like what you see? Visit the ' +\n",
              "          '<a target=\"_blank\" href=https://colab.research.google.com/notebooks/data_table.ipynb>data table notebook</a>'\n",
              "          + ' to learn more about interactive tables.';\n",
              "        element.innerHTML = '';\n",
              "        dataTable['output_type'] = 'display_data';\n",
              "        await google.colab.output.renderOutput(dataTable, element);\n",
              "        const docLink = document.createElement('div');\n",
              "        docLink.innerHTML = docLinkHtml;\n",
              "        element.appendChild(docLink);\n",
              "      }\n",
              "    </script>\n",
              "  </div>\n",
              "\n",
              "\n",
              "<div id=\"df-1d0338da-d1ff-410b-9f18-abf666db5086\">\n",
              "  <button class=\"colab-df-quickchart\" onclick=\"quickchart('df-1d0338da-d1ff-410b-9f18-abf666db5086')\"\n",
              "            title=\"Suggest charts\"\n",
              "            style=\"display:none;\">\n",
              "\n",
              "<svg xmlns=\"http://www.w3.org/2000/svg\" height=\"24px\"viewBox=\"0 0 24 24\"\n",
              "     width=\"24px\">\n",
              "    <g>\n",
              "        <path d=\"M19 3H5c-1.1 0-2 .9-2 2v14c0 1.1.9 2 2 2h14c1.1 0 2-.9 2-2V5c0-1.1-.9-2-2-2zM9 17H7v-7h2v7zm4 0h-2V7h2v10zm4 0h-2v-4h2v4z\"/>\n",
              "    </g>\n",
              "</svg>\n",
              "  </button>\n",
              "\n",
              "<style>\n",
              "  .colab-df-quickchart {\n",
              "      --bg-color: #E8F0FE;\n",
              "      --fill-color: #1967D2;\n",
              "      --hover-bg-color: #E2EBFA;\n",
              "      --hover-fill-color: #174EA6;\n",
              "      --disabled-fill-color: #AAA;\n",
              "      --disabled-bg-color: #DDD;\n",
              "  }\n",
              "\n",
              "  [theme=dark] .colab-df-quickchart {\n",
              "      --bg-color: #3B4455;\n",
              "      --fill-color: #D2E3FC;\n",
              "      --hover-bg-color: #434B5C;\n",
              "      --hover-fill-color: #FFFFFF;\n",
              "      --disabled-bg-color: #3B4455;\n",
              "      --disabled-fill-color: #666;\n",
              "  }\n",
              "\n",
              "  .colab-df-quickchart {\n",
              "    background-color: var(--bg-color);\n",
              "    border: none;\n",
              "    border-radius: 50%;\n",
              "    cursor: pointer;\n",
              "    display: none;\n",
              "    fill: var(--fill-color);\n",
              "    height: 32px;\n",
              "    padding: 0;\n",
              "    width: 32px;\n",
              "  }\n",
              "\n",
              "  .colab-df-quickchart:hover {\n",
              "    background-color: var(--hover-bg-color);\n",
              "    box-shadow: 0 1px 2px rgba(60, 64, 67, 0.3), 0 1px 3px 1px rgba(60, 64, 67, 0.15);\n",
              "    fill: var(--button-hover-fill-color);\n",
              "  }\n",
              "\n",
              "  .colab-df-quickchart-complete:disabled,\n",
              "  .colab-df-quickchart-complete:disabled:hover {\n",
              "    background-color: var(--disabled-bg-color);\n",
              "    fill: var(--disabled-fill-color);\n",
              "    box-shadow: none;\n",
              "  }\n",
              "\n",
              "  .colab-df-spinner {\n",
              "    border: 2px solid var(--fill-color);\n",
              "    border-color: transparent;\n",
              "    border-bottom-color: var(--fill-color);\n",
              "    animation:\n",
              "      spin 1s steps(1) infinite;\n",
              "  }\n",
              "\n",
              "  @keyframes spin {\n",
              "    0% {\n",
              "      border-color: transparent;\n",
              "      border-bottom-color: var(--fill-color);\n",
              "      border-left-color: var(--fill-color);\n",
              "    }\n",
              "    20% {\n",
              "      border-color: transparent;\n",
              "      border-left-color: var(--fill-color);\n",
              "      border-top-color: var(--fill-color);\n",
              "    }\n",
              "    30% {\n",
              "      border-color: transparent;\n",
              "      border-left-color: var(--fill-color);\n",
              "      border-top-color: var(--fill-color);\n",
              "      border-right-color: var(--fill-color);\n",
              "    }\n",
              "    40% {\n",
              "      border-color: transparent;\n",
              "      border-right-color: var(--fill-color);\n",
              "      border-top-color: var(--fill-color);\n",
              "    }\n",
              "    60% {\n",
              "      border-color: transparent;\n",
              "      border-right-color: var(--fill-color);\n",
              "    }\n",
              "    80% {\n",
              "      border-color: transparent;\n",
              "      border-right-color: var(--fill-color);\n",
              "      border-bottom-color: var(--fill-color);\n",
              "    }\n",
              "    90% {\n",
              "      border-color: transparent;\n",
              "      border-bottom-color: var(--fill-color);\n",
              "    }\n",
              "  }\n",
              "</style>\n",
              "\n",
              "  <script>\n",
              "    async function quickchart(key) {\n",
              "      const quickchartButtonEl =\n",
              "        document.querySelector('#' + key + ' button');\n",
              "      quickchartButtonEl.disabled = true;  // To prevent multiple clicks.\n",
              "      quickchartButtonEl.classList.add('colab-df-spinner');\n",
              "      try {\n",
              "        const charts = await google.colab.kernel.invokeFunction(\n",
              "            'suggestCharts', [key], {});\n",
              "      } catch (error) {\n",
              "        console.error('Error during call to suggestCharts:', error);\n",
              "      }\n",
              "      quickchartButtonEl.classList.remove('colab-df-spinner');\n",
              "      quickchartButtonEl.classList.add('colab-df-quickchart-complete');\n",
              "    }\n",
              "    (() => {\n",
              "      let quickchartButtonEl =\n",
              "        document.querySelector('#df-1d0338da-d1ff-410b-9f18-abf666db5086 button');\n",
              "      quickchartButtonEl.style.display =\n",
              "        google.colab.kernel.accessAllowed ? 'block' : 'none';\n",
              "    })();\n",
              "  </script>\n",
              "</div>\n",
              "\n",
              "    </div>\n",
              "  </div>\n"
            ],
            "application/vnd.google.colaboratory.intrinsic+json": {
              "type": "dataframe",
              "summary": "{\n  \"name\": \"df\",\n  \"rows\": 4,\n  \"fields\": [\n    {\n      \"column\": \"case_outcome\",\n      \"properties\": {\n        \"dtype\": \"string\",\n        \"num_unique_values\": 4,\n        \"samples\": [\n          10,\n          \"12219\",\n          \"24985\"\n        ],\n        \"semantic_type\": \"\",\n        \"description\": \"\"\n      }\n    },\n    {\n      \"column\": \"case_text\",\n      \"properties\": {\n        \"dtype\": \"string\",\n        \"num_unique_values\": 4,\n        \"samples\": [\n          24764,\n          \"5\",\n          \"24809\"\n        ],\n        \"semantic_type\": \"\",\n        \"description\": \"\"\n      }\n    }\n  ]\n}"
            }
          },
          "metadata": {},
          "execution_count": 11
        }
      ],
      "source": [
        "df.describe()"
      ]
    },
    {
      "cell_type": "code",
      "execution_count": 12,
      "metadata": {
        "colab": {
          "base_uri": "https://localhost:8080/"
        },
        "id": "tIx4pg7eAeG3",
        "outputId": "c97d885f-83dd-40d8-8be1-9dc4305f7e4f"
      },
      "outputs": [
        {
          "output_type": "execute_result",
          "data": {
            "text/plain": [
              "case_outcome\n",
              "cited            12219\n",
              "referred to       4384\n",
              "applied           2448\n",
              "followed          2256\n",
              "considered        1712\n",
              "discussed         1024\n",
              "distinguished      608\n",
              "related            113\n",
              "affirmed           113\n",
              "approved           108\n",
              "Name: count, dtype: int64"
            ]
          },
          "metadata": {},
          "execution_count": 12
        }
      ],
      "source": [
        "df.case_outcome.value_counts()"
      ]
    },
    {
      "cell_type": "code",
      "execution_count": 13,
      "metadata": {
        "colab": {
          "base_uri": "https://localhost:8080/"
        },
        "id": "Rux9lTbMAgQC",
        "outputId": "945f4e33-3594-42d6-c508-83ec2cbf7c82"
      },
      "outputs": [
        {
          "output_type": "execute_result",
          "data": {
            "text/plain": [
              "case_outcome      0\n",
              "case_text       176\n",
              "dtype: int64"
            ]
          },
          "metadata": {},
          "execution_count": 13
        }
      ],
      "source": [
        "df.isna().sum()"
      ]
    },
    {
      "cell_type": "code",
      "execution_count": 14,
      "metadata": {
        "id": "yLloNa82AiH0"
      },
      "outputs": [],
      "source": [
        "df = df.fillna('') #filling of null values with blanks"
      ]
    },
    {
      "cell_type": "code",
      "execution_count": 15,
      "metadata": {
        "colab": {
          "base_uri": "https://localhost:8080/"
        },
        "id": "wZNiw7njAkBk",
        "outputId": "02735136-9a2a-4908-9147-63409569727b"
      },
      "outputs": [
        {
          "output_type": "execute_result",
          "data": {
            "text/plain": [
              "case_outcome    0\n",
              "case_text       0\n",
              "dtype: int64"
            ]
          },
          "metadata": {},
          "execution_count": 15
        }
      ],
      "source": [
        "df.isna().sum()"
      ]
    },
    {
      "cell_type": "code",
      "execution_count": 16,
      "metadata": {
        "colab": {
          "base_uri": "https://localhost:8080/"
        },
        "id": "GuzT0H-9AmGP",
        "outputId": "350284e7-b545-49f2-c1f6-8e6bac0cb17f"
      },
      "outputs": [
        {
          "output_type": "stream",
          "name": "stderr",
          "text": [
            "[nltk_data] Downloading package stopwords to /root/nltk_data...\n",
            "[nltk_data]   Unzipping corpora/stopwords.zip.\n"
          ]
        },
        {
          "output_type": "execute_result",
          "data": {
            "text/plain": [
              "True"
            ]
          },
          "metadata": {},
          "execution_count": 16
        }
      ],
      "source": [
        "nltk.download('stopwords')"
      ]
    },
    {
      "cell_type": "code",
      "execution_count": 17,
      "metadata": {
        "colab": {
          "base_uri": "https://localhost:8080/"
        },
        "id": "RwXs0QJ7ArQc",
        "outputId": "03641424-c289-4ad5-82ec-8c75467eb10d"
      },
      "outputs": [
        {
          "output_type": "stream",
          "name": "stdout",
          "text": [
            "['i', 'me', 'my', 'myself', 'we', 'our', 'ours', 'ourselves', 'you', \"you're\", \"you've\", \"you'll\", \"you'd\", 'your', 'yours', 'yourself', 'yourselves', 'he', 'him', 'his', 'himself', 'she', \"she's\", 'her', 'hers', 'herself', 'it', \"it's\", 'its', 'itself', 'they', 'them', 'their', 'theirs', 'themselves', 'what', 'which', 'who', 'whom', 'this', 'that', \"that'll\", 'these', 'those', 'am', 'is', 'are', 'was', 'were', 'be', 'been', 'being', 'have', 'has', 'had', 'having', 'do', 'does', 'did', 'doing', 'a', 'an', 'the', 'and', 'but', 'if', 'or', 'because', 'as', 'until', 'while', 'of', 'at', 'by', 'for', 'with', 'about', 'against', 'between', 'into', 'through', 'during', 'before', 'after', 'above', 'below', 'to', 'from', 'up', 'down', 'in', 'out', 'on', 'off', 'over', 'under', 'again', 'further', 'then', 'once', 'here', 'there', 'when', 'where', 'why', 'how', 'all', 'any', 'both', 'each', 'few', 'more', 'most', 'other', 'some', 'such', 'no', 'nor', 'not', 'only', 'own', 'same', 'so', 'than', 'too', 'very', 's', 't', 'can', 'will', 'just', 'don', \"don't\", 'should', \"should've\", 'now', 'd', 'll', 'm', 'o', 're', 've', 'y', 'ain', 'aren', \"aren't\", 'couldn', \"couldn't\", 'didn', \"didn't\", 'doesn', \"doesn't\", 'hadn', \"hadn't\", 'hasn', \"hasn't\", 'haven', \"haven't\", 'isn', \"isn't\", 'ma', 'mightn', \"mightn't\", 'mustn', \"mustn't\", 'needn', \"needn't\", 'shan', \"shan't\", 'shouldn', \"shouldn't\", 'wasn', \"wasn't\", 'weren', \"weren't\", 'won', \"won't\", 'wouldn', \"wouldn't\"]\n"
          ]
        }
      ],
      "source": [
        "print(stopwords.words('english'))"
      ]
    },
    {
      "cell_type": "markdown",
      "source": [
        "# **Defining Custom Stopwords**"
      ],
      "metadata": {
        "id": "GyGvIGCrNFtg"
      }
    },
    {
      "cell_type": "code",
      "execution_count": 18,
      "metadata": {
        "id": "w529gEJrAs4G"
      },
      "outputs": [],
      "source": [
        "#defining custom stopwords\n",
        "custom_stopwords=['i', 'me', 'my', 'myself', 'we', 'our', 'ours', 'ourselves', 'you', \"you're\", \"you've\", \"you'll\", \"you'd\", 'your', 'yours', 'yourself', 'yourselves', 'he', 'him', 'his', 'himself', 'she', \"she's\", 'her', 'hers', 'herself', 'it', \"it's\", 'its', 'itself', 'they', 'them', 'their', 'theirs', 'themselves', 'what', 'which', 'who', 'whom', 'this', 'that', \"that'll\", 'these', 'those', 'am', 'is', 'are', 'was', 'were', 'be', 'been', 'being', 'have', 'has', 'had', 'having', 'do', 'does', 'did', 'doing', 'a', 'an', 'the', 'and', 'but', 'if', 'or', 'because', 'as', 'until', 'while', 'of', 'at', 'by', 'for', 'with', 'about', 'against', 'between', 'into', 'through', 'during', 'before', 'after', 'above', 'below', 'to', 'from', 'up', 'down', 'in', 'out', 'on', 'off', 'over', 'under', 'again', 'further', 'then', 'once', 'here', 'there', 'when', 'where', 'why', 'how', 'all', 'any', 'both', 'each', 'few', 'more', 'most', 'other', 'some', 'such', 'only', 'own', 'same', 'so', 'than', 'too', 'very', 's', 't', 'can', 'will', 'just', 'don', 'now', 'd', 'll', 'm', 'o', 're', 've', 'y', 'ain', 'aren', 'couldn', 'didn', 'doesn', 'hadn', 'hasn', 'haven', 'isn', 'ma', 'mightn', \"mightn't\", 'mustn', 'needn', 'shan', \"shan't\", 'shouldn', 'wasn', 'weren', 'won']"
      ]
    },
    {
      "cell_type": "code",
      "execution_count": 19,
      "metadata": {
        "id": "mojtWvw5Avss"
      },
      "outputs": [],
      "source": [
        "import re\n",
        "from nltk.stem import PorterStemmer\n",
        "\n",
        "def text_preprocessing(text, custom_stopwords):\n",
        "    if not isinstance(text, str):\n",
        "        # Handle non-string elements (e.g., return empty string, skip the sample)\n",
        "        return \"\"\n",
        "\n",
        "    # Lowercase the text (if it's a string)\n",
        "    text = text.lower()\n",
        "\n",
        "    # Remove punctuations\n",
        "    text = re.sub(r'[^\\w\\s]', '', text)\n",
        "\n",
        "    #Remove numbers\n",
        "    text = re.sub(r'\\d+','',text)\n",
        "\n",
        "    # Remove URLs\n",
        "    text = re.sub(r'http\\S+|www\\S+|https\\S+', '', text, flags=re.MULTILINE)\n",
        "\n",
        "    # Remove emails\n",
        "    text = re.sub(r'\\S*@\\S*\\s?', '', text)\n",
        "\n",
        "    # Tokenize the text (split into words)\n",
        "    words = text.split()\n",
        "\n",
        "    # Remove custom stopwords from the tokenized list\n",
        "    filtered_words = [word for word in words if word not in custom_stopwords]\n",
        "\n",
        "    # Stemming\n",
        "    stemmer = PorterStemmer()\n",
        "    filtered_words = [stemmer.stem(word) for word in filtered_words]\n",
        "\n",
        "    # Join tokens back into single string\n",
        "    text = ' '.join(filtered_words)\n",
        "\n",
        "    return text\n",
        "df['clean_case_text']=df['case_text'].apply(lambda x: text_preprocessing(x,custom_stopwords))"
      ]
    },
    {
      "cell_type": "code",
      "execution_count": 20,
      "metadata": {
        "colab": {
          "base_uri": "https://localhost:8080/",
          "height": 206
        },
        "id": "qwAznxGRAx6c",
        "outputId": "748731e1-e266-47c9-d026-75daa20ce24d"
      },
      "outputs": [
        {
          "output_type": "execute_result",
          "data": {
            "text/plain": [
              "  case_outcome                                          case_text  \\\n",
              "0        cited  Alpine Hardwood (Aust) Pty Ltd v Hardys Pty Lt...   \n",
              "1        cited  Black v Lipovac [1998] FCA 699 ; (1998) 217 AL...   \n",
              "2        cited  Colgate Palmolive Co v Cussons Pty Ltd (1993) ...   \n",
              "3        cited  Dais Studio Pty Ltd v Bullett Creative Pty Ltd...   \n",
              "4        cited  Dr Martens Australia Pty Ltd v Figgins Holding...   \n",
              "\n",
              "                                     clean_case_text  \n",
              "0  alpin hardwood aust pti ltd v hardi pti ltd no...  \n",
              "1  black v lipovac fca alr gener principl govern ...  \n",
              "2  colgat palmol co v cusson pti ltd fcr ordinari...  \n",
              "3  dai studio pti ltd v bullett creativ pti ltd f...  \n",
              "4  dr marten australia pti ltd v figgin hold pti ...  "
            ],
            "text/html": [
              "\n",
              "  <div id=\"df-6e8d59cf-1c80-4221-b1e4-5f032c0b7a4d\" class=\"colab-df-container\">\n",
              "    <div>\n",
              "<style scoped>\n",
              "    .dataframe tbody tr th:only-of-type {\n",
              "        vertical-align: middle;\n",
              "    }\n",
              "\n",
              "    .dataframe tbody tr th {\n",
              "        vertical-align: top;\n",
              "    }\n",
              "\n",
              "    .dataframe thead th {\n",
              "        text-align: right;\n",
              "    }\n",
              "</style>\n",
              "<table border=\"1\" class=\"dataframe\">\n",
              "  <thead>\n",
              "    <tr style=\"text-align: right;\">\n",
              "      <th></th>\n",
              "      <th>case_outcome</th>\n",
              "      <th>case_text</th>\n",
              "      <th>clean_case_text</th>\n",
              "    </tr>\n",
              "  </thead>\n",
              "  <tbody>\n",
              "    <tr>\n",
              "      <th>0</th>\n",
              "      <td>cited</td>\n",
              "      <td>Alpine Hardwood (Aust) Pty Ltd v Hardys Pty Lt...</td>\n",
              "      <td>alpin hardwood aust pti ltd v hardi pti ltd no...</td>\n",
              "    </tr>\n",
              "    <tr>\n",
              "      <th>1</th>\n",
              "      <td>cited</td>\n",
              "      <td>Black v Lipovac [1998] FCA 699 ; (1998) 217 AL...</td>\n",
              "      <td>black v lipovac fca alr gener principl govern ...</td>\n",
              "    </tr>\n",
              "    <tr>\n",
              "      <th>2</th>\n",
              "      <td>cited</td>\n",
              "      <td>Colgate Palmolive Co v Cussons Pty Ltd (1993) ...</td>\n",
              "      <td>colgat palmol co v cusson pti ltd fcr ordinari...</td>\n",
              "    </tr>\n",
              "    <tr>\n",
              "      <th>3</th>\n",
              "      <td>cited</td>\n",
              "      <td>Dais Studio Pty Ltd v Bullett Creative Pty Ltd...</td>\n",
              "      <td>dai studio pti ltd v bullett creativ pti ltd f...</td>\n",
              "    </tr>\n",
              "    <tr>\n",
              "      <th>4</th>\n",
              "      <td>cited</td>\n",
              "      <td>Dr Martens Australia Pty Ltd v Figgins Holding...</td>\n",
              "      <td>dr marten australia pti ltd v figgin hold pti ...</td>\n",
              "    </tr>\n",
              "  </tbody>\n",
              "</table>\n",
              "</div>\n",
              "    <div class=\"colab-df-buttons\">\n",
              "\n",
              "  <div class=\"colab-df-container\">\n",
              "    <button class=\"colab-df-convert\" onclick=\"convertToInteractive('df-6e8d59cf-1c80-4221-b1e4-5f032c0b7a4d')\"\n",
              "            title=\"Convert this dataframe to an interactive table.\"\n",
              "            style=\"display:none;\">\n",
              "\n",
              "  <svg xmlns=\"http://www.w3.org/2000/svg\" height=\"24px\" viewBox=\"0 -960 960 960\">\n",
              "    <path d=\"M120-120v-720h720v720H120Zm60-500h600v-160H180v160Zm220 220h160v-160H400v160Zm0 220h160v-160H400v160ZM180-400h160v-160H180v160Zm440 0h160v-160H620v160ZM180-180h160v-160H180v160Zm440 0h160v-160H620v160Z\"/>\n",
              "  </svg>\n",
              "    </button>\n",
              "\n",
              "  <style>\n",
              "    .colab-df-container {\n",
              "      display:flex;\n",
              "      gap: 12px;\n",
              "    }\n",
              "\n",
              "    .colab-df-convert {\n",
              "      background-color: #E8F0FE;\n",
              "      border: none;\n",
              "      border-radius: 50%;\n",
              "      cursor: pointer;\n",
              "      display: none;\n",
              "      fill: #1967D2;\n",
              "      height: 32px;\n",
              "      padding: 0 0 0 0;\n",
              "      width: 32px;\n",
              "    }\n",
              "\n",
              "    .colab-df-convert:hover {\n",
              "      background-color: #E2EBFA;\n",
              "      box-shadow: 0px 1px 2px rgba(60, 64, 67, 0.3), 0px 1px 3px 1px rgba(60, 64, 67, 0.15);\n",
              "      fill: #174EA6;\n",
              "    }\n",
              "\n",
              "    .colab-df-buttons div {\n",
              "      margin-bottom: 4px;\n",
              "    }\n",
              "\n",
              "    [theme=dark] .colab-df-convert {\n",
              "      background-color: #3B4455;\n",
              "      fill: #D2E3FC;\n",
              "    }\n",
              "\n",
              "    [theme=dark] .colab-df-convert:hover {\n",
              "      background-color: #434B5C;\n",
              "      box-shadow: 0px 1px 3px 1px rgba(0, 0, 0, 0.15);\n",
              "      filter: drop-shadow(0px 1px 2px rgba(0, 0, 0, 0.3));\n",
              "      fill: #FFFFFF;\n",
              "    }\n",
              "  </style>\n",
              "\n",
              "    <script>\n",
              "      const buttonEl =\n",
              "        document.querySelector('#df-6e8d59cf-1c80-4221-b1e4-5f032c0b7a4d button.colab-df-convert');\n",
              "      buttonEl.style.display =\n",
              "        google.colab.kernel.accessAllowed ? 'block' : 'none';\n",
              "\n",
              "      async function convertToInteractive(key) {\n",
              "        const element = document.querySelector('#df-6e8d59cf-1c80-4221-b1e4-5f032c0b7a4d');\n",
              "        const dataTable =\n",
              "          await google.colab.kernel.invokeFunction('convertToInteractive',\n",
              "                                                    [key], {});\n",
              "        if (!dataTable) return;\n",
              "\n",
              "        const docLinkHtml = 'Like what you see? Visit the ' +\n",
              "          '<a target=\"_blank\" href=https://colab.research.google.com/notebooks/data_table.ipynb>data table notebook</a>'\n",
              "          + ' to learn more about interactive tables.';\n",
              "        element.innerHTML = '';\n",
              "        dataTable['output_type'] = 'display_data';\n",
              "        await google.colab.output.renderOutput(dataTable, element);\n",
              "        const docLink = document.createElement('div');\n",
              "        docLink.innerHTML = docLinkHtml;\n",
              "        element.appendChild(docLink);\n",
              "      }\n",
              "    </script>\n",
              "  </div>\n",
              "\n",
              "\n",
              "<div id=\"df-4a9911f8-8653-4b00-80e4-d8764edc8ff0\">\n",
              "  <button class=\"colab-df-quickchart\" onclick=\"quickchart('df-4a9911f8-8653-4b00-80e4-d8764edc8ff0')\"\n",
              "            title=\"Suggest charts\"\n",
              "            style=\"display:none;\">\n",
              "\n",
              "<svg xmlns=\"http://www.w3.org/2000/svg\" height=\"24px\"viewBox=\"0 0 24 24\"\n",
              "     width=\"24px\">\n",
              "    <g>\n",
              "        <path d=\"M19 3H5c-1.1 0-2 .9-2 2v14c0 1.1.9 2 2 2h14c1.1 0 2-.9 2-2V5c0-1.1-.9-2-2-2zM9 17H7v-7h2v7zm4 0h-2V7h2v10zm4 0h-2v-4h2v4z\"/>\n",
              "    </g>\n",
              "</svg>\n",
              "  </button>\n",
              "\n",
              "<style>\n",
              "  .colab-df-quickchart {\n",
              "      --bg-color: #E8F0FE;\n",
              "      --fill-color: #1967D2;\n",
              "      --hover-bg-color: #E2EBFA;\n",
              "      --hover-fill-color: #174EA6;\n",
              "      --disabled-fill-color: #AAA;\n",
              "      --disabled-bg-color: #DDD;\n",
              "  }\n",
              "\n",
              "  [theme=dark] .colab-df-quickchart {\n",
              "      --bg-color: #3B4455;\n",
              "      --fill-color: #D2E3FC;\n",
              "      --hover-bg-color: #434B5C;\n",
              "      --hover-fill-color: #FFFFFF;\n",
              "      --disabled-bg-color: #3B4455;\n",
              "      --disabled-fill-color: #666;\n",
              "  }\n",
              "\n",
              "  .colab-df-quickchart {\n",
              "    background-color: var(--bg-color);\n",
              "    border: none;\n",
              "    border-radius: 50%;\n",
              "    cursor: pointer;\n",
              "    display: none;\n",
              "    fill: var(--fill-color);\n",
              "    height: 32px;\n",
              "    padding: 0;\n",
              "    width: 32px;\n",
              "  }\n",
              "\n",
              "  .colab-df-quickchart:hover {\n",
              "    background-color: var(--hover-bg-color);\n",
              "    box-shadow: 0 1px 2px rgba(60, 64, 67, 0.3), 0 1px 3px 1px rgba(60, 64, 67, 0.15);\n",
              "    fill: var(--button-hover-fill-color);\n",
              "  }\n",
              "\n",
              "  .colab-df-quickchart-complete:disabled,\n",
              "  .colab-df-quickchart-complete:disabled:hover {\n",
              "    background-color: var(--disabled-bg-color);\n",
              "    fill: var(--disabled-fill-color);\n",
              "    box-shadow: none;\n",
              "  }\n",
              "\n",
              "  .colab-df-spinner {\n",
              "    border: 2px solid var(--fill-color);\n",
              "    border-color: transparent;\n",
              "    border-bottom-color: var(--fill-color);\n",
              "    animation:\n",
              "      spin 1s steps(1) infinite;\n",
              "  }\n",
              "\n",
              "  @keyframes spin {\n",
              "    0% {\n",
              "      border-color: transparent;\n",
              "      border-bottom-color: var(--fill-color);\n",
              "      border-left-color: var(--fill-color);\n",
              "    }\n",
              "    20% {\n",
              "      border-color: transparent;\n",
              "      border-left-color: var(--fill-color);\n",
              "      border-top-color: var(--fill-color);\n",
              "    }\n",
              "    30% {\n",
              "      border-color: transparent;\n",
              "      border-left-color: var(--fill-color);\n",
              "      border-top-color: var(--fill-color);\n",
              "      border-right-color: var(--fill-color);\n",
              "    }\n",
              "    40% {\n",
              "      border-color: transparent;\n",
              "      border-right-color: var(--fill-color);\n",
              "      border-top-color: var(--fill-color);\n",
              "    }\n",
              "    60% {\n",
              "      border-color: transparent;\n",
              "      border-right-color: var(--fill-color);\n",
              "    }\n",
              "    80% {\n",
              "      border-color: transparent;\n",
              "      border-right-color: var(--fill-color);\n",
              "      border-bottom-color: var(--fill-color);\n",
              "    }\n",
              "    90% {\n",
              "      border-color: transparent;\n",
              "      border-bottom-color: var(--fill-color);\n",
              "    }\n",
              "  }\n",
              "</style>\n",
              "\n",
              "  <script>\n",
              "    async function quickchart(key) {\n",
              "      const quickchartButtonEl =\n",
              "        document.querySelector('#' + key + ' button');\n",
              "      quickchartButtonEl.disabled = true;  // To prevent multiple clicks.\n",
              "      quickchartButtonEl.classList.add('colab-df-spinner');\n",
              "      try {\n",
              "        const charts = await google.colab.kernel.invokeFunction(\n",
              "            'suggestCharts', [key], {});\n",
              "      } catch (error) {\n",
              "        console.error('Error during call to suggestCharts:', error);\n",
              "      }\n",
              "      quickchartButtonEl.classList.remove('colab-df-spinner');\n",
              "      quickchartButtonEl.classList.add('colab-df-quickchart-complete');\n",
              "    }\n",
              "    (() => {\n",
              "      let quickchartButtonEl =\n",
              "        document.querySelector('#df-4a9911f8-8653-4b00-80e4-d8764edc8ff0 button');\n",
              "      quickchartButtonEl.style.display =\n",
              "        google.colab.kernel.accessAllowed ? 'block' : 'none';\n",
              "    })();\n",
              "  </script>\n",
              "</div>\n",
              "\n",
              "    </div>\n",
              "  </div>\n"
            ],
            "application/vnd.google.colaboratory.intrinsic+json": {
              "type": "dataframe",
              "variable_name": "df",
              "summary": "{\n  \"name\": \"df\",\n  \"rows\": 24985,\n  \"fields\": [\n    {\n      \"column\": \"case_outcome\",\n      \"properties\": {\n        \"dtype\": \"category\",\n        \"num_unique_values\": 10,\n        \"samples\": [\n          \"affirmed\",\n          \"applied\",\n          \"considered\"\n        ],\n        \"semantic_type\": \"\",\n        \"description\": \"\"\n      }\n    },\n    {\n      \"column\": \"case_text\",\n      \"properties\": {\n        \"dtype\": \"string\",\n        \"num_unique_values\": 24765,\n        \"samples\": [\n          \"Knightswood Nominees Pty Ltd v Sherwin Pastoral Co Ltd (1989) 15 ACLR 151Section 247A(1) expresses a composite notion of good faith and a proper purpose: Barrack Mines Ltd v Grants Patch Mining Ltd (No 2) [1988] 1 Qd R 606 and Knightswood Nominees Pty Ltd v Sherwin Pastoral Co Ltd (1989) 15 ACLR 151. By extension, in my opinion, this is also the position in respect of the requirement of good faith and proper purpose contained within s 247A(5). See Chuen v Laredo Pty Ltd [2005] WASC 58 at [59] . 63 The right to apply under s 247A(1) confined as it is to members means that the applicant's purpose must be reasonably related to his or her status as a member: Knightswood Nominees Pty Ltd v Sherwin Pastoral Co Ltd (1989) 15 ACLR 151. I am satisfied that the applicant's purpose is proper in that respect.\",\n          \"Trade Practices Commission v Stihl Chain Saws (Australia) Pty Ltd (1978) ATPR 40-091course, a penalty should not be so high as to be oppressive, but it is important in this regard to recall exactly what is meant by that sentiment. That was, with respect, aptly and accurately stated by Merkel J in Australian Competition and Consumer Commission v Leahy Petroleum Pty Ltd (No 2) [2005] FCA 254 ; (2005) 215 ALR 281 (Leahy Petroleum (No 2)) at para 9 as follows, (and this is a reference to observations made by Smithers J in a case, Trade Practices Commission v Stihl Chain Saws (Australia) Pty Ltd (1978) ATPR 40-091 , which had been referred to by Burchett and Kiefel JJ in NW Frozen Foods): I therefore respectfully agree with the observation of Smithers J, referred to by Burchett and Kiefel JJ in NW Frozen Foods, to the effect that, a penalty that is of no greater than is necessary to achieve the object of general deterrence, will not be oppressive.\",\n          \"SZLXI v Minister for Immigration and Citizenship and Anor [2008] FMCA 759The appellant appeals from the decision of Federal Magistrate Scarlett delivered on 26 May 2008 which dismissed an application for judicial review of a decision of the Refugee Review Tribunal ('the Tribunal') handed down on 20 December 2007 (see SZLXI v Minister for Immigration and Citizenship and Anor [2008] FMCA 759). The Tribunal had affirmed a decision of a delegate of the Minister for Immigration and Citizenship ('the Minister') to refuse to grant a Protection (Class XA) visa ('the protection visa') to the appellant. 2 The appellant is a citizen of the People's Republic of China ('the PRC'). The appellant arrived in Australia on 7 July 2007 and lodged an application for the protection visa with the Department of Immigration and Citizenship on 20 August 2007. A delegate of the Minister refused the application for the protection visa on 31 August 2007. On 28 September 2007 the appellant made an application to the Tribunal for a review of the delegate's decision. 3 Before the Tribunal the appellant claimed to have been recruited by the People's Liberation Army ('the army') in October 1982 as an engineer. The appellant claimed that after being demobilised he became a goldsmith and in 1999 established his own business in Wuxi City. The appellant claimed that as he was not a local in Wuxi City he became a victim of corruption at the hands of the local officials.\"\n        ],\n        \"semantic_type\": \"\",\n        \"description\": \"\"\n      }\n    },\n    {\n      \"column\": \"clean_case_text\",\n      \"properties\": {\n        \"dtype\": \"string\",\n        \"num_unique_values\": 24690,\n        \"samples\": [\n          \"henderson v commission railway western australia hca clr court recognis employ extend beyond mere fulfil daili duti see favel mort ltd v murray henderson v commission railway western australia hca clr commonwealth v oliv hca clr hatzimanoli v ani corpor ltd hca clr humphrey earl ltd v speechley hca clr particularli respect employ arm forc court recognis employ entail simpli duti subject command order includ matter ancillari incident duti see comcar v mather anor ald roncevich commonwealth australia v carter\",\n          \"naomi marbl granit pti ltd v fai gener insur compani ltd no qsc qd r naomi marbl granit pti ltd v fai gener insur compani ltd no qsc qd r shepherdson j identifi categori case might appropri make order cost nonparti said person manag action eg director insolv compani caus compani improperli prosecut defend proceed person maintain financ action cite singh v observ ltd er balcomb lj member court appeal bahai v rashidian symphoni group symphoni group went say accept categori set neither rigid nor close two categori nonparti cost order may made follow ad unsuccess parti corpor case director director right control corpor oz b pti ltd v elder ixl ltd fca alr einfeld j land properti trust co plc wlr h leverton ltd v crawford offshor explor servic ltd unreport decis cost garland j queen bench divis date octob b situat parti litig insolv person man straw person play activ part conduct litig interest subject matter litig knight v fp special asset limit passag set earlier reason c nonparti effect litig stand behind actual parti knight v fp special asset limit per dawson j nonparti fund otherwis financi assist unsuccess parti litig stand benefit parti success foster ex part foster v duu alr einfeld j h leverton ltd v crawford offshor explor servic ltd e nonparti support unsuccess parti done act bad faith toward parti toward court give fals testimoni forg document prevent relev document discov h leverton ltd v crawford offshor explor servic ltd alreadi said not satisfi either plaintiff posit satisfi order indemn cost order propos make alreadi said cbh financi posit mr byrn would posit caus cbh not abl pay cost call upon amount owe dr low not descend advis court financi posit alpha opinion plaintiff may well incap satisfi order cost made\",\n          \"applic nagm v minist immigr multicultur indigen affair fcafc fcr categori cost court may order nonparti pay cost not close applic nagm v minist immigr multicultur indigen affair fcafc fcr case court said certain categori case jurisdict award cost nonparti exercis not frequent degre regular one categori nonparti consid real parti litig knight v special asset per mason cj dean j anoth nonparti legal repres parti proceed cost order may made exampl solicitor consequ conduct litig cabooltur park feder court act empow court make cost order legal repres parti second sourc jurisdict impli accru inher jurisdict court offic cabooltur park\"\n        ],\n        \"semantic_type\": \"\",\n        \"description\": \"\"\n      }\n    }\n  ]\n}"
            }
          },
          "metadata": {},
          "execution_count": 20
        }
      ],
      "source": [
        "df.head()"
      ]
    },
    {
      "cell_type": "code",
      "execution_count": 21,
      "metadata": {
        "id": "qy0hxpkqBlgC"
      },
      "outputs": [],
      "source": [
        "df1=df.drop(columns=['case_text'])"
      ]
    },
    {
      "cell_type": "code",
      "execution_count": 22,
      "metadata": {
        "colab": {
          "base_uri": "https://localhost:8080/",
          "height": 206
        },
        "id": "IskqPU9FBoLv",
        "outputId": "bb0013da-e609-4e33-a887-223de57967c6"
      },
      "outputs": [
        {
          "output_type": "execute_result",
          "data": {
            "text/plain": [
              "  case_outcome                                    clean_case_text\n",
              "0        cited  alpin hardwood aust pti ltd v hardi pti ltd no...\n",
              "1        cited  black v lipovac fca alr gener principl govern ...\n",
              "2        cited  colgat palmol co v cusson pti ltd fcr ordinari...\n",
              "3        cited  dai studio pti ltd v bullett creativ pti ltd f...\n",
              "4        cited  dr marten australia pti ltd v figgin hold pti ..."
            ],
            "text/html": [
              "\n",
              "  <div id=\"df-9aac4c3f-7c4c-49be-98fc-55b523ff808c\" class=\"colab-df-container\">\n",
              "    <div>\n",
              "<style scoped>\n",
              "    .dataframe tbody tr th:only-of-type {\n",
              "        vertical-align: middle;\n",
              "    }\n",
              "\n",
              "    .dataframe tbody tr th {\n",
              "        vertical-align: top;\n",
              "    }\n",
              "\n",
              "    .dataframe thead th {\n",
              "        text-align: right;\n",
              "    }\n",
              "</style>\n",
              "<table border=\"1\" class=\"dataframe\">\n",
              "  <thead>\n",
              "    <tr style=\"text-align: right;\">\n",
              "      <th></th>\n",
              "      <th>case_outcome</th>\n",
              "      <th>clean_case_text</th>\n",
              "    </tr>\n",
              "  </thead>\n",
              "  <tbody>\n",
              "    <tr>\n",
              "      <th>0</th>\n",
              "      <td>cited</td>\n",
              "      <td>alpin hardwood aust pti ltd v hardi pti ltd no...</td>\n",
              "    </tr>\n",
              "    <tr>\n",
              "      <th>1</th>\n",
              "      <td>cited</td>\n",
              "      <td>black v lipovac fca alr gener principl govern ...</td>\n",
              "    </tr>\n",
              "    <tr>\n",
              "      <th>2</th>\n",
              "      <td>cited</td>\n",
              "      <td>colgat palmol co v cusson pti ltd fcr ordinari...</td>\n",
              "    </tr>\n",
              "    <tr>\n",
              "      <th>3</th>\n",
              "      <td>cited</td>\n",
              "      <td>dai studio pti ltd v bullett creativ pti ltd f...</td>\n",
              "    </tr>\n",
              "    <tr>\n",
              "      <th>4</th>\n",
              "      <td>cited</td>\n",
              "      <td>dr marten australia pti ltd v figgin hold pti ...</td>\n",
              "    </tr>\n",
              "  </tbody>\n",
              "</table>\n",
              "</div>\n",
              "    <div class=\"colab-df-buttons\">\n",
              "\n",
              "  <div class=\"colab-df-container\">\n",
              "    <button class=\"colab-df-convert\" onclick=\"convertToInteractive('df-9aac4c3f-7c4c-49be-98fc-55b523ff808c')\"\n",
              "            title=\"Convert this dataframe to an interactive table.\"\n",
              "            style=\"display:none;\">\n",
              "\n",
              "  <svg xmlns=\"http://www.w3.org/2000/svg\" height=\"24px\" viewBox=\"0 -960 960 960\">\n",
              "    <path d=\"M120-120v-720h720v720H120Zm60-500h600v-160H180v160Zm220 220h160v-160H400v160Zm0 220h160v-160H400v160ZM180-400h160v-160H180v160Zm440 0h160v-160H620v160ZM180-180h160v-160H180v160Zm440 0h160v-160H620v160Z\"/>\n",
              "  </svg>\n",
              "    </button>\n",
              "\n",
              "  <style>\n",
              "    .colab-df-container {\n",
              "      display:flex;\n",
              "      gap: 12px;\n",
              "    }\n",
              "\n",
              "    .colab-df-convert {\n",
              "      background-color: #E8F0FE;\n",
              "      border: none;\n",
              "      border-radius: 50%;\n",
              "      cursor: pointer;\n",
              "      display: none;\n",
              "      fill: #1967D2;\n",
              "      height: 32px;\n",
              "      padding: 0 0 0 0;\n",
              "      width: 32px;\n",
              "    }\n",
              "\n",
              "    .colab-df-convert:hover {\n",
              "      background-color: #E2EBFA;\n",
              "      box-shadow: 0px 1px 2px rgba(60, 64, 67, 0.3), 0px 1px 3px 1px rgba(60, 64, 67, 0.15);\n",
              "      fill: #174EA6;\n",
              "    }\n",
              "\n",
              "    .colab-df-buttons div {\n",
              "      margin-bottom: 4px;\n",
              "    }\n",
              "\n",
              "    [theme=dark] .colab-df-convert {\n",
              "      background-color: #3B4455;\n",
              "      fill: #D2E3FC;\n",
              "    }\n",
              "\n",
              "    [theme=dark] .colab-df-convert:hover {\n",
              "      background-color: #434B5C;\n",
              "      box-shadow: 0px 1px 3px 1px rgba(0, 0, 0, 0.15);\n",
              "      filter: drop-shadow(0px 1px 2px rgba(0, 0, 0, 0.3));\n",
              "      fill: #FFFFFF;\n",
              "    }\n",
              "  </style>\n",
              "\n",
              "    <script>\n",
              "      const buttonEl =\n",
              "        document.querySelector('#df-9aac4c3f-7c4c-49be-98fc-55b523ff808c button.colab-df-convert');\n",
              "      buttonEl.style.display =\n",
              "        google.colab.kernel.accessAllowed ? 'block' : 'none';\n",
              "\n",
              "      async function convertToInteractive(key) {\n",
              "        const element = document.querySelector('#df-9aac4c3f-7c4c-49be-98fc-55b523ff808c');\n",
              "        const dataTable =\n",
              "          await google.colab.kernel.invokeFunction('convertToInteractive',\n",
              "                                                    [key], {});\n",
              "        if (!dataTable) return;\n",
              "\n",
              "        const docLinkHtml = 'Like what you see? Visit the ' +\n",
              "          '<a target=\"_blank\" href=https://colab.research.google.com/notebooks/data_table.ipynb>data table notebook</a>'\n",
              "          + ' to learn more about interactive tables.';\n",
              "        element.innerHTML = '';\n",
              "        dataTable['output_type'] = 'display_data';\n",
              "        await google.colab.output.renderOutput(dataTable, element);\n",
              "        const docLink = document.createElement('div');\n",
              "        docLink.innerHTML = docLinkHtml;\n",
              "        element.appendChild(docLink);\n",
              "      }\n",
              "    </script>\n",
              "  </div>\n",
              "\n",
              "\n",
              "<div id=\"df-ffd0dc4d-c81b-4338-869f-8c07cfb7326c\">\n",
              "  <button class=\"colab-df-quickchart\" onclick=\"quickchart('df-ffd0dc4d-c81b-4338-869f-8c07cfb7326c')\"\n",
              "            title=\"Suggest charts\"\n",
              "            style=\"display:none;\">\n",
              "\n",
              "<svg xmlns=\"http://www.w3.org/2000/svg\" height=\"24px\"viewBox=\"0 0 24 24\"\n",
              "     width=\"24px\">\n",
              "    <g>\n",
              "        <path d=\"M19 3H5c-1.1 0-2 .9-2 2v14c0 1.1.9 2 2 2h14c1.1 0 2-.9 2-2V5c0-1.1-.9-2-2-2zM9 17H7v-7h2v7zm4 0h-2V7h2v10zm4 0h-2v-4h2v4z\"/>\n",
              "    </g>\n",
              "</svg>\n",
              "  </button>\n",
              "\n",
              "<style>\n",
              "  .colab-df-quickchart {\n",
              "      --bg-color: #E8F0FE;\n",
              "      --fill-color: #1967D2;\n",
              "      --hover-bg-color: #E2EBFA;\n",
              "      --hover-fill-color: #174EA6;\n",
              "      --disabled-fill-color: #AAA;\n",
              "      --disabled-bg-color: #DDD;\n",
              "  }\n",
              "\n",
              "  [theme=dark] .colab-df-quickchart {\n",
              "      --bg-color: #3B4455;\n",
              "      --fill-color: #D2E3FC;\n",
              "      --hover-bg-color: #434B5C;\n",
              "      --hover-fill-color: #FFFFFF;\n",
              "      --disabled-bg-color: #3B4455;\n",
              "      --disabled-fill-color: #666;\n",
              "  }\n",
              "\n",
              "  .colab-df-quickchart {\n",
              "    background-color: var(--bg-color);\n",
              "    border: none;\n",
              "    border-radius: 50%;\n",
              "    cursor: pointer;\n",
              "    display: none;\n",
              "    fill: var(--fill-color);\n",
              "    height: 32px;\n",
              "    padding: 0;\n",
              "    width: 32px;\n",
              "  }\n",
              "\n",
              "  .colab-df-quickchart:hover {\n",
              "    background-color: var(--hover-bg-color);\n",
              "    box-shadow: 0 1px 2px rgba(60, 64, 67, 0.3), 0 1px 3px 1px rgba(60, 64, 67, 0.15);\n",
              "    fill: var(--button-hover-fill-color);\n",
              "  }\n",
              "\n",
              "  .colab-df-quickchart-complete:disabled,\n",
              "  .colab-df-quickchart-complete:disabled:hover {\n",
              "    background-color: var(--disabled-bg-color);\n",
              "    fill: var(--disabled-fill-color);\n",
              "    box-shadow: none;\n",
              "  }\n",
              "\n",
              "  .colab-df-spinner {\n",
              "    border: 2px solid var(--fill-color);\n",
              "    border-color: transparent;\n",
              "    border-bottom-color: var(--fill-color);\n",
              "    animation:\n",
              "      spin 1s steps(1) infinite;\n",
              "  }\n",
              "\n",
              "  @keyframes spin {\n",
              "    0% {\n",
              "      border-color: transparent;\n",
              "      border-bottom-color: var(--fill-color);\n",
              "      border-left-color: var(--fill-color);\n",
              "    }\n",
              "    20% {\n",
              "      border-color: transparent;\n",
              "      border-left-color: var(--fill-color);\n",
              "      border-top-color: var(--fill-color);\n",
              "    }\n",
              "    30% {\n",
              "      border-color: transparent;\n",
              "      border-left-color: var(--fill-color);\n",
              "      border-top-color: var(--fill-color);\n",
              "      border-right-color: var(--fill-color);\n",
              "    }\n",
              "    40% {\n",
              "      border-color: transparent;\n",
              "      border-right-color: var(--fill-color);\n",
              "      border-top-color: var(--fill-color);\n",
              "    }\n",
              "    60% {\n",
              "      border-color: transparent;\n",
              "      border-right-color: var(--fill-color);\n",
              "    }\n",
              "    80% {\n",
              "      border-color: transparent;\n",
              "      border-right-color: var(--fill-color);\n",
              "      border-bottom-color: var(--fill-color);\n",
              "    }\n",
              "    90% {\n",
              "      border-color: transparent;\n",
              "      border-bottom-color: var(--fill-color);\n",
              "    }\n",
              "  }\n",
              "</style>\n",
              "\n",
              "  <script>\n",
              "    async function quickchart(key) {\n",
              "      const quickchartButtonEl =\n",
              "        document.querySelector('#' + key + ' button');\n",
              "      quickchartButtonEl.disabled = true;  // To prevent multiple clicks.\n",
              "      quickchartButtonEl.classList.add('colab-df-spinner');\n",
              "      try {\n",
              "        const charts = await google.colab.kernel.invokeFunction(\n",
              "            'suggestCharts', [key], {});\n",
              "      } catch (error) {\n",
              "        console.error('Error during call to suggestCharts:', error);\n",
              "      }\n",
              "      quickchartButtonEl.classList.remove('colab-df-spinner');\n",
              "      quickchartButtonEl.classList.add('colab-df-quickchart-complete');\n",
              "    }\n",
              "    (() => {\n",
              "      let quickchartButtonEl =\n",
              "        document.querySelector('#df-ffd0dc4d-c81b-4338-869f-8c07cfb7326c button');\n",
              "      quickchartButtonEl.style.display =\n",
              "        google.colab.kernel.accessAllowed ? 'block' : 'none';\n",
              "    })();\n",
              "  </script>\n",
              "</div>\n",
              "\n",
              "    </div>\n",
              "  </div>\n"
            ],
            "application/vnd.google.colaboratory.intrinsic+json": {
              "type": "dataframe",
              "variable_name": "df1",
              "summary": "{\n  \"name\": \"df1\",\n  \"rows\": 24985,\n  \"fields\": [\n    {\n      \"column\": \"case_outcome\",\n      \"properties\": {\n        \"dtype\": \"category\",\n        \"num_unique_values\": 10,\n        \"samples\": [\n          \"affirmed\",\n          \"applied\",\n          \"considered\"\n        ],\n        \"semantic_type\": \"\",\n        \"description\": \"\"\n      }\n    },\n    {\n      \"column\": \"clean_case_text\",\n      \"properties\": {\n        \"dtype\": \"string\",\n        \"num_unique_values\": 24690,\n        \"samples\": [\n          \"henderson v commission railway western australia hca clr court recognis employ extend beyond mere fulfil daili duti see favel mort ltd v murray henderson v commission railway western australia hca clr commonwealth v oliv hca clr hatzimanoli v ani corpor ltd hca clr humphrey earl ltd v speechley hca clr particularli respect employ arm forc court recognis employ entail simpli duti subject command order includ matter ancillari incident duti see comcar v mather anor ald roncevich commonwealth australia v carter\",\n          \"naomi marbl granit pti ltd v fai gener insur compani ltd no qsc qd r naomi marbl granit pti ltd v fai gener insur compani ltd no qsc qd r shepherdson j identifi categori case might appropri make order cost nonparti said person manag action eg director insolv compani caus compani improperli prosecut defend proceed person maintain financ action cite singh v observ ltd er balcomb lj member court appeal bahai v rashidian symphoni group symphoni group went say accept categori set neither rigid nor close two categori nonparti cost order may made follow ad unsuccess parti corpor case director director right control corpor oz b pti ltd v elder ixl ltd fca alr einfeld j land properti trust co plc wlr h leverton ltd v crawford offshor explor servic ltd unreport decis cost garland j queen bench divis date octob b situat parti litig insolv person man straw person play activ part conduct litig interest subject matter litig knight v fp special asset limit passag set earlier reason c nonparti effect litig stand behind actual parti knight v fp special asset limit per dawson j nonparti fund otherwis financi assist unsuccess parti litig stand benefit parti success foster ex part foster v duu alr einfeld j h leverton ltd v crawford offshor explor servic ltd e nonparti support unsuccess parti done act bad faith toward parti toward court give fals testimoni forg document prevent relev document discov h leverton ltd v crawford offshor explor servic ltd alreadi said not satisfi either plaintiff posit satisfi order indemn cost order propos make alreadi said cbh financi posit mr byrn would posit caus cbh not abl pay cost call upon amount owe dr low not descend advis court financi posit alpha opinion plaintiff may well incap satisfi order cost made\",\n          \"applic nagm v minist immigr multicultur indigen affair fcafc fcr categori cost court may order nonparti pay cost not close applic nagm v minist immigr multicultur indigen affair fcafc fcr case court said certain categori case jurisdict award cost nonparti exercis not frequent degre regular one categori nonparti consid real parti litig knight v special asset per mason cj dean j anoth nonparti legal repres parti proceed cost order may made exampl solicitor consequ conduct litig cabooltur park feder court act empow court make cost order legal repres parti second sourc jurisdict impli accru inher jurisdict court offic cabooltur park\"\n        ],\n        \"semantic_type\": \"\",\n        \"description\": \"\"\n      }\n    }\n  ]\n}"
            }
          },
          "metadata": {},
          "execution_count": 22
        }
      ],
      "source": [
        "df1.head()"
      ]
    },
    {
      "cell_type": "code",
      "execution_count": 23,
      "metadata": {
        "id": "96Hkwe4RBqAw"
      },
      "outputs": [],
      "source": [
        "df1=df1.rename(columns={'clean_case_text':'case_text'})"
      ]
    },
    {
      "cell_type": "code",
      "execution_count": 24,
      "metadata": {
        "colab": {
          "base_uri": "https://localhost:8080/",
          "height": 206
        },
        "id": "dXa1o0NaBsum",
        "outputId": "e2fa96e9-f9d7-44fd-9803-da3a732828c1"
      },
      "outputs": [
        {
          "output_type": "execute_result",
          "data": {
            "text/plain": [
              "  case_outcome                                          case_text\n",
              "0        cited  alpin hardwood aust pti ltd v hardi pti ltd no...\n",
              "1        cited  black v lipovac fca alr gener principl govern ...\n",
              "2        cited  colgat palmol co v cusson pti ltd fcr ordinari...\n",
              "3        cited  dai studio pti ltd v bullett creativ pti ltd f...\n",
              "4        cited  dr marten australia pti ltd v figgin hold pti ..."
            ],
            "text/html": [
              "\n",
              "  <div id=\"df-f0620d8c-29c6-4f34-a2bb-6d55b121a6b9\" class=\"colab-df-container\">\n",
              "    <div>\n",
              "<style scoped>\n",
              "    .dataframe tbody tr th:only-of-type {\n",
              "        vertical-align: middle;\n",
              "    }\n",
              "\n",
              "    .dataframe tbody tr th {\n",
              "        vertical-align: top;\n",
              "    }\n",
              "\n",
              "    .dataframe thead th {\n",
              "        text-align: right;\n",
              "    }\n",
              "</style>\n",
              "<table border=\"1\" class=\"dataframe\">\n",
              "  <thead>\n",
              "    <tr style=\"text-align: right;\">\n",
              "      <th></th>\n",
              "      <th>case_outcome</th>\n",
              "      <th>case_text</th>\n",
              "    </tr>\n",
              "  </thead>\n",
              "  <tbody>\n",
              "    <tr>\n",
              "      <th>0</th>\n",
              "      <td>cited</td>\n",
              "      <td>alpin hardwood aust pti ltd v hardi pti ltd no...</td>\n",
              "    </tr>\n",
              "    <tr>\n",
              "      <th>1</th>\n",
              "      <td>cited</td>\n",
              "      <td>black v lipovac fca alr gener principl govern ...</td>\n",
              "    </tr>\n",
              "    <tr>\n",
              "      <th>2</th>\n",
              "      <td>cited</td>\n",
              "      <td>colgat palmol co v cusson pti ltd fcr ordinari...</td>\n",
              "    </tr>\n",
              "    <tr>\n",
              "      <th>3</th>\n",
              "      <td>cited</td>\n",
              "      <td>dai studio pti ltd v bullett creativ pti ltd f...</td>\n",
              "    </tr>\n",
              "    <tr>\n",
              "      <th>4</th>\n",
              "      <td>cited</td>\n",
              "      <td>dr marten australia pti ltd v figgin hold pti ...</td>\n",
              "    </tr>\n",
              "  </tbody>\n",
              "</table>\n",
              "</div>\n",
              "    <div class=\"colab-df-buttons\">\n",
              "\n",
              "  <div class=\"colab-df-container\">\n",
              "    <button class=\"colab-df-convert\" onclick=\"convertToInteractive('df-f0620d8c-29c6-4f34-a2bb-6d55b121a6b9')\"\n",
              "            title=\"Convert this dataframe to an interactive table.\"\n",
              "            style=\"display:none;\">\n",
              "\n",
              "  <svg xmlns=\"http://www.w3.org/2000/svg\" height=\"24px\" viewBox=\"0 -960 960 960\">\n",
              "    <path d=\"M120-120v-720h720v720H120Zm60-500h600v-160H180v160Zm220 220h160v-160H400v160Zm0 220h160v-160H400v160ZM180-400h160v-160H180v160Zm440 0h160v-160H620v160ZM180-180h160v-160H180v160Zm440 0h160v-160H620v160Z\"/>\n",
              "  </svg>\n",
              "    </button>\n",
              "\n",
              "  <style>\n",
              "    .colab-df-container {\n",
              "      display:flex;\n",
              "      gap: 12px;\n",
              "    }\n",
              "\n",
              "    .colab-df-convert {\n",
              "      background-color: #E8F0FE;\n",
              "      border: none;\n",
              "      border-radius: 50%;\n",
              "      cursor: pointer;\n",
              "      display: none;\n",
              "      fill: #1967D2;\n",
              "      height: 32px;\n",
              "      padding: 0 0 0 0;\n",
              "      width: 32px;\n",
              "    }\n",
              "\n",
              "    .colab-df-convert:hover {\n",
              "      background-color: #E2EBFA;\n",
              "      box-shadow: 0px 1px 2px rgba(60, 64, 67, 0.3), 0px 1px 3px 1px rgba(60, 64, 67, 0.15);\n",
              "      fill: #174EA6;\n",
              "    }\n",
              "\n",
              "    .colab-df-buttons div {\n",
              "      margin-bottom: 4px;\n",
              "    }\n",
              "\n",
              "    [theme=dark] .colab-df-convert {\n",
              "      background-color: #3B4455;\n",
              "      fill: #D2E3FC;\n",
              "    }\n",
              "\n",
              "    [theme=dark] .colab-df-convert:hover {\n",
              "      background-color: #434B5C;\n",
              "      box-shadow: 0px 1px 3px 1px rgba(0, 0, 0, 0.15);\n",
              "      filter: drop-shadow(0px 1px 2px rgba(0, 0, 0, 0.3));\n",
              "      fill: #FFFFFF;\n",
              "    }\n",
              "  </style>\n",
              "\n",
              "    <script>\n",
              "      const buttonEl =\n",
              "        document.querySelector('#df-f0620d8c-29c6-4f34-a2bb-6d55b121a6b9 button.colab-df-convert');\n",
              "      buttonEl.style.display =\n",
              "        google.colab.kernel.accessAllowed ? 'block' : 'none';\n",
              "\n",
              "      async function convertToInteractive(key) {\n",
              "        const element = document.querySelector('#df-f0620d8c-29c6-4f34-a2bb-6d55b121a6b9');\n",
              "        const dataTable =\n",
              "          await google.colab.kernel.invokeFunction('convertToInteractive',\n",
              "                                                    [key], {});\n",
              "        if (!dataTable) return;\n",
              "\n",
              "        const docLinkHtml = 'Like what you see? Visit the ' +\n",
              "          '<a target=\"_blank\" href=https://colab.research.google.com/notebooks/data_table.ipynb>data table notebook</a>'\n",
              "          + ' to learn more about interactive tables.';\n",
              "        element.innerHTML = '';\n",
              "        dataTable['output_type'] = 'display_data';\n",
              "        await google.colab.output.renderOutput(dataTable, element);\n",
              "        const docLink = document.createElement('div');\n",
              "        docLink.innerHTML = docLinkHtml;\n",
              "        element.appendChild(docLink);\n",
              "      }\n",
              "    </script>\n",
              "  </div>\n",
              "\n",
              "\n",
              "<div id=\"df-94bea4ca-781c-4ff1-8258-b6e2be325679\">\n",
              "  <button class=\"colab-df-quickchart\" onclick=\"quickchart('df-94bea4ca-781c-4ff1-8258-b6e2be325679')\"\n",
              "            title=\"Suggest charts\"\n",
              "            style=\"display:none;\">\n",
              "\n",
              "<svg xmlns=\"http://www.w3.org/2000/svg\" height=\"24px\"viewBox=\"0 0 24 24\"\n",
              "     width=\"24px\">\n",
              "    <g>\n",
              "        <path d=\"M19 3H5c-1.1 0-2 .9-2 2v14c0 1.1.9 2 2 2h14c1.1 0 2-.9 2-2V5c0-1.1-.9-2-2-2zM9 17H7v-7h2v7zm4 0h-2V7h2v10zm4 0h-2v-4h2v4z\"/>\n",
              "    </g>\n",
              "</svg>\n",
              "  </button>\n",
              "\n",
              "<style>\n",
              "  .colab-df-quickchart {\n",
              "      --bg-color: #E8F0FE;\n",
              "      --fill-color: #1967D2;\n",
              "      --hover-bg-color: #E2EBFA;\n",
              "      --hover-fill-color: #174EA6;\n",
              "      --disabled-fill-color: #AAA;\n",
              "      --disabled-bg-color: #DDD;\n",
              "  }\n",
              "\n",
              "  [theme=dark] .colab-df-quickchart {\n",
              "      --bg-color: #3B4455;\n",
              "      --fill-color: #D2E3FC;\n",
              "      --hover-bg-color: #434B5C;\n",
              "      --hover-fill-color: #FFFFFF;\n",
              "      --disabled-bg-color: #3B4455;\n",
              "      --disabled-fill-color: #666;\n",
              "  }\n",
              "\n",
              "  .colab-df-quickchart {\n",
              "    background-color: var(--bg-color);\n",
              "    border: none;\n",
              "    border-radius: 50%;\n",
              "    cursor: pointer;\n",
              "    display: none;\n",
              "    fill: var(--fill-color);\n",
              "    height: 32px;\n",
              "    padding: 0;\n",
              "    width: 32px;\n",
              "  }\n",
              "\n",
              "  .colab-df-quickchart:hover {\n",
              "    background-color: var(--hover-bg-color);\n",
              "    box-shadow: 0 1px 2px rgba(60, 64, 67, 0.3), 0 1px 3px 1px rgba(60, 64, 67, 0.15);\n",
              "    fill: var(--button-hover-fill-color);\n",
              "  }\n",
              "\n",
              "  .colab-df-quickchart-complete:disabled,\n",
              "  .colab-df-quickchart-complete:disabled:hover {\n",
              "    background-color: var(--disabled-bg-color);\n",
              "    fill: var(--disabled-fill-color);\n",
              "    box-shadow: none;\n",
              "  }\n",
              "\n",
              "  .colab-df-spinner {\n",
              "    border: 2px solid var(--fill-color);\n",
              "    border-color: transparent;\n",
              "    border-bottom-color: var(--fill-color);\n",
              "    animation:\n",
              "      spin 1s steps(1) infinite;\n",
              "  }\n",
              "\n",
              "  @keyframes spin {\n",
              "    0% {\n",
              "      border-color: transparent;\n",
              "      border-bottom-color: var(--fill-color);\n",
              "      border-left-color: var(--fill-color);\n",
              "    }\n",
              "    20% {\n",
              "      border-color: transparent;\n",
              "      border-left-color: var(--fill-color);\n",
              "      border-top-color: var(--fill-color);\n",
              "    }\n",
              "    30% {\n",
              "      border-color: transparent;\n",
              "      border-left-color: var(--fill-color);\n",
              "      border-top-color: var(--fill-color);\n",
              "      border-right-color: var(--fill-color);\n",
              "    }\n",
              "    40% {\n",
              "      border-color: transparent;\n",
              "      border-right-color: var(--fill-color);\n",
              "      border-top-color: var(--fill-color);\n",
              "    }\n",
              "    60% {\n",
              "      border-color: transparent;\n",
              "      border-right-color: var(--fill-color);\n",
              "    }\n",
              "    80% {\n",
              "      border-color: transparent;\n",
              "      border-right-color: var(--fill-color);\n",
              "      border-bottom-color: var(--fill-color);\n",
              "    }\n",
              "    90% {\n",
              "      border-color: transparent;\n",
              "      border-bottom-color: var(--fill-color);\n",
              "    }\n",
              "  }\n",
              "</style>\n",
              "\n",
              "  <script>\n",
              "    async function quickchart(key) {\n",
              "      const quickchartButtonEl =\n",
              "        document.querySelector('#' + key + ' button');\n",
              "      quickchartButtonEl.disabled = true;  // To prevent multiple clicks.\n",
              "      quickchartButtonEl.classList.add('colab-df-spinner');\n",
              "      try {\n",
              "        const charts = await google.colab.kernel.invokeFunction(\n",
              "            'suggestCharts', [key], {});\n",
              "      } catch (error) {\n",
              "        console.error('Error during call to suggestCharts:', error);\n",
              "      }\n",
              "      quickchartButtonEl.classList.remove('colab-df-spinner');\n",
              "      quickchartButtonEl.classList.add('colab-df-quickchart-complete');\n",
              "    }\n",
              "    (() => {\n",
              "      let quickchartButtonEl =\n",
              "        document.querySelector('#df-94bea4ca-781c-4ff1-8258-b6e2be325679 button');\n",
              "      quickchartButtonEl.style.display =\n",
              "        google.colab.kernel.accessAllowed ? 'block' : 'none';\n",
              "    })();\n",
              "  </script>\n",
              "</div>\n",
              "\n",
              "    </div>\n",
              "  </div>\n"
            ],
            "application/vnd.google.colaboratory.intrinsic+json": {
              "type": "dataframe",
              "variable_name": "df1",
              "summary": "{\n  \"name\": \"df1\",\n  \"rows\": 24985,\n  \"fields\": [\n    {\n      \"column\": \"case_outcome\",\n      \"properties\": {\n        \"dtype\": \"category\",\n        \"num_unique_values\": 10,\n        \"samples\": [\n          \"affirmed\",\n          \"applied\",\n          \"considered\"\n        ],\n        \"semantic_type\": \"\",\n        \"description\": \"\"\n      }\n    },\n    {\n      \"column\": \"case_text\",\n      \"properties\": {\n        \"dtype\": \"string\",\n        \"num_unique_values\": 24690,\n        \"samples\": [\n          \"henderson v commission railway western australia hca clr court recognis employ extend beyond mere fulfil daili duti see favel mort ltd v murray henderson v commission railway western australia hca clr commonwealth v oliv hca clr hatzimanoli v ani corpor ltd hca clr humphrey earl ltd v speechley hca clr particularli respect employ arm forc court recognis employ entail simpli duti subject command order includ matter ancillari incident duti see comcar v mather anor ald roncevich commonwealth australia v carter\",\n          \"naomi marbl granit pti ltd v fai gener insur compani ltd no qsc qd r naomi marbl granit pti ltd v fai gener insur compani ltd no qsc qd r shepherdson j identifi categori case might appropri make order cost nonparti said person manag action eg director insolv compani caus compani improperli prosecut defend proceed person maintain financ action cite singh v observ ltd er balcomb lj member court appeal bahai v rashidian symphoni group symphoni group went say accept categori set neither rigid nor close two categori nonparti cost order may made follow ad unsuccess parti corpor case director director right control corpor oz b pti ltd v elder ixl ltd fca alr einfeld j land properti trust co plc wlr h leverton ltd v crawford offshor explor servic ltd unreport decis cost garland j queen bench divis date octob b situat parti litig insolv person man straw person play activ part conduct litig interest subject matter litig knight v fp special asset limit passag set earlier reason c nonparti effect litig stand behind actual parti knight v fp special asset limit per dawson j nonparti fund otherwis financi assist unsuccess parti litig stand benefit parti success foster ex part foster v duu alr einfeld j h leverton ltd v crawford offshor explor servic ltd e nonparti support unsuccess parti done act bad faith toward parti toward court give fals testimoni forg document prevent relev document discov h leverton ltd v crawford offshor explor servic ltd alreadi said not satisfi either plaintiff posit satisfi order indemn cost order propos make alreadi said cbh financi posit mr byrn would posit caus cbh not abl pay cost call upon amount owe dr low not descend advis court financi posit alpha opinion plaintiff may well incap satisfi order cost made\",\n          \"applic nagm v minist immigr multicultur indigen affair fcafc fcr categori cost court may order nonparti pay cost not close applic nagm v minist immigr multicultur indigen affair fcafc fcr case court said certain categori case jurisdict award cost nonparti exercis not frequent degre regular one categori nonparti consid real parti litig knight v special asset per mason cj dean j anoth nonparti legal repres parti proceed cost order may made exampl solicitor consequ conduct litig cabooltur park feder court act empow court make cost order legal repres parti second sourc jurisdict impli accru inher jurisdict court offic cabooltur park\"\n        ],\n        \"semantic_type\": \"\",\n        \"description\": \"\"\n      }\n    }\n  ]\n}"
            }
          },
          "metadata": {},
          "execution_count": 24
        }
      ],
      "source": [
        "df1.head()"
      ]
    },
    {
      "cell_type": "markdown",
      "metadata": {
        "id": "LhsTtDP_9hAE"
      },
      "source": [
        "# **Train and Test Split**"
      ]
    },
    {
      "cell_type": "code",
      "execution_count": 25,
      "metadata": {
        "colab": {
          "base_uri": "https://localhost:8080/"
        },
        "id": "uk-7Y14ZBuQl",
        "outputId": "f6c0a559-6da2-4b16-e824-0ddc584480d1"
      },
      "outputs": [
        {
          "output_type": "execute_result",
          "data": {
            "text/plain": [
              "((19988, 2), (4997, 2))"
            ]
          },
          "metadata": {},
          "execution_count": 25
        }
      ],
      "source": [
        "from sklearn.model_selection import train_test_split\n",
        "\n",
        "df_train,df_test = train_test_split(df1,test_size=0.2, shuffle=True,random_state=42)\n",
        "\n",
        "df_train.shape,df_test.shape"
      ]
    },
    {
      "cell_type": "code",
      "execution_count": 26,
      "metadata": {
        "colab": {
          "base_uri": "https://localhost:8080/"
        },
        "id": "k9Co6AYaBxPE",
        "outputId": "250403e4-316a-499f-bbb2-39fb76ab57aa"
      },
      "outputs": [
        {
          "output_type": "execute_result",
          "data": {
            "text/plain": [
              "array(['applied', 'cited', 'referred to', 'considered', 'followed',\n",
              "       'discussed', 'distinguished', 'affirmed', 'approved', 'related'],\n",
              "      dtype=object)"
            ]
          },
          "metadata": {},
          "execution_count": 26
        }
      ],
      "source": [
        "df_train['case_outcome'].unique()"
      ]
    },
    {
      "cell_type": "markdown",
      "source": [
        "# **Preprocessing the label classes**"
      ],
      "metadata": {
        "id": "RGupL9SGUr29"
      }
    },
    {
      "cell_type": "code",
      "execution_count": 27,
      "metadata": {
        "colab": {
          "base_uri": "https://localhost:8080/"
        },
        "id": "RhfmVVKQIJGS",
        "outputId": "a1708763-47a0-48e2-ffab-12deaad319da"
      },
      "outputs": [
        {
          "output_type": "stream",
          "name": "stdout",
          "text": [
            "cited: 48.84%\n",
            "referred to: 17.64%\n",
            "applied: 9.67%\n",
            "followed: 9.11%\n",
            "considered: 6.94%\n",
            "discussed: 4.10%\n",
            "distinguished: 2.43%\n",
            "approved: 0.45%\n",
            "related: 0.43%\n",
            "affirmed: 0.41%\n"
          ]
        }
      ],
      "source": [
        "# Calculate percentage of data for each category before label encoding\n",
        "category_counts = df_train['case_outcome'].value_counts()\n",
        "total_samples = len(df_train)\n",
        "\n",
        "# Calculate percentage for each category\n",
        "percentages = {}\n",
        "for category, count in category_counts.items():\n",
        "    percentage = (count / total_samples) * 100\n",
        "    percentages[category] = percentage\n",
        "\n",
        "# Print percentages\n",
        "for category, percentage in percentages.items():\n",
        "    print(f\"{category}: {percentage:.2f}%\")\n"
      ]
    },
    {
      "cell_type": "markdown",
      "source": [
        "\n",
        "\n",
        "1.   We observe that the out of 10 classes, 5 classes (Less than 5% of data) have minimal distribution so we exclude the 5 classes having minimal data(Discussed, distinguished,approved,related,affirmed)\n",
        "2.   These classes which are less than 5% in the total data set would create noise and deviate the model from proper classification.\n",
        "\n"
      ],
      "metadata": {
        "id": "ijdPtxI6NmuO"
      }
    },
    {
      "cell_type": "code",
      "execution_count": 28,
      "metadata": {
        "id": "IAfly98RP836"
      },
      "outputs": [],
      "source": [
        "# Assuming df_train contains your training data\n",
        "# Calculate the percentage of each category label\n",
        "label_counts = df_train['case_outcome'].value_counts(normalize=True) * 100\n",
        "\n",
        "# Filter out labels with less than 5% representation\n",
        "threshold = 5\n",
        "labels_to_keep = label_counts[label_counts >= threshold].index\n",
        "\n",
        "# Filter the training data based on the selected labels\n",
        "df_train_filtered = df_train[df_train['case_outcome'].isin(labels_to_keep)]\n",
        "\n",
        "# Optionally, you can also filter the test data using the same labels\n",
        "df_test_filtered = df_test[df_test['case_outcome'].isin(labels_to_keep)]\n"
      ]
    },
    {
      "cell_type": "code",
      "execution_count": 29,
      "metadata": {
        "colab": {
          "base_uri": "https://localhost:8080/"
        },
        "id": "oUpuc7IgQH7r",
        "outputId": "8c0aa98f-c17c-4e70-a835-769c7999a141"
      },
      "outputs": [
        {
          "output_type": "execute_result",
          "data": {
            "text/plain": [
              "case_outcome\n",
              "cited          9762\n",
              "referred to    3525\n",
              "applied        1933\n",
              "followed       1820\n",
              "considered     1388\n",
              "Name: count, dtype: int64"
            ]
          },
          "metadata": {},
          "execution_count": 29
        }
      ],
      "source": [
        "df_train_filtered['case_outcome'].value_counts()"
      ]
    },
    {
      "cell_type": "code",
      "execution_count": 30,
      "metadata": {
        "colab": {
          "base_uri": "https://localhost:8080/"
        },
        "id": "CkSh7QZUQTu1",
        "outputId": "dc1ea6cb-e696-4382-9dcc-59fe2b8a4153"
      },
      "outputs": [
        {
          "output_type": "execute_result",
          "data": {
            "text/plain": [
              "case_outcome\n",
              "cited          2457\n",
              "referred to     859\n",
              "applied         515\n",
              "followed        436\n",
              "considered      324\n",
              "Name: count, dtype: int64"
            ]
          },
          "metadata": {},
          "execution_count": 30
        }
      ],
      "source": [
        "df_test_filtered['case_outcome'].value_counts()"
      ]
    },
    {
      "cell_type": "code",
      "execution_count": 31,
      "metadata": {
        "colab": {
          "base_uri": "https://localhost:8080/"
        },
        "id": "ZAwMCRMmccXl",
        "outputId": "eb5b3f4c-45ab-4a7e-c3b8-6970eb48d0ad"
      },
      "outputs": [
        {
          "output_type": "execute_result",
          "data": {
            "text/plain": [
              "case_outcome    0\n",
              "case_text       0\n",
              "dtype: int64"
            ]
          },
          "metadata": {},
          "execution_count": 31
        }
      ],
      "source": [
        "df_train_filtered.isna().sum()"
      ]
    },
    {
      "cell_type": "markdown",
      "metadata": {
        "id": "r7QsIFgJ9GCC"
      },
      "source": [
        "# **Define label encoding**"
      ]
    },
    {
      "cell_type": "code",
      "execution_count": 32,
      "metadata": {
        "id": "MKWGYQBmB0Ht"
      },
      "outputs": [],
      "source": [
        "encoded_dict = {\"cited\": 0, \"referred to\": 1, \"applied\": 2, \"followed\": 3,\n",
        "                 \"considered\": 4, \"discussed\": 5, 'distinguished': 6,\n",
        "                 \"approved\": 7, \"related\": 8, \"affirmed\": 9}"
      ]
    },
    {
      "cell_type": "code",
      "execution_count": 33,
      "metadata": {
        "id": "srdkICgTB1_t"
      },
      "outputs": [],
      "source": [
        "# df_train['case_outcome'] = df_train_filtered['case_outcome'].map(encoded_dict)\n",
        "# df_test['case_outcome'] = df_test_filtered['case_outcome'].map(encoded_dict)"
      ]
    },
    {
      "cell_type": "code",
      "execution_count": 34,
      "metadata": {
        "colab": {
          "base_uri": "https://localhost:8080/"
        },
        "id": "FbTAGp8fcyqY",
        "outputId": "a4737b0f-09bd-40f7-a36f-671dd86e4331"
      },
      "outputs": [
        {
          "output_type": "stream",
          "name": "stderr",
          "text": [
            "<ipython-input-34-16add9589e98>:2: SettingWithCopyWarning: \n",
            "A value is trying to be set on a copy of a slice from a DataFrame.\n",
            "Try using .loc[row_indexer,col_indexer] = value instead\n",
            "\n",
            "See the caveats in the documentation: https://pandas.pydata.org/pandas-docs/stable/user_guide/indexing.html#returning-a-view-versus-a-copy\n",
            "  df_train_filtered['case_outcome'] = df_train_filtered['case_outcome'].map(encoded_dict)\n",
            "<ipython-input-34-16add9589e98>:3: SettingWithCopyWarning: \n",
            "A value is trying to be set on a copy of a slice from a DataFrame.\n",
            "Try using .loc[row_indexer,col_indexer] = value instead\n",
            "\n",
            "See the caveats in the documentation: https://pandas.pydata.org/pandas-docs/stable/user_guide/indexing.html#returning-a-view-versus-a-copy\n",
            "  df_test_filtered['case_outcome'] = df_test_filtered['case_outcome'].map(encoded_dict)\n"
          ]
        }
      ],
      "source": [
        "# Map labels to encoded values\n",
        "df_train_filtered['case_outcome'] = df_train_filtered['case_outcome'].map(encoded_dict)\n",
        "df_test_filtered['case_outcome'] = df_test_filtered['case_outcome'].map(encoded_dict)"
      ]
    },
    {
      "cell_type": "code",
      "execution_count": 35,
      "metadata": {
        "colab": {
          "base_uri": "https://localhost:8080/"
        },
        "id": "ygTkTc0MSQjO",
        "outputId": "449a1f2a-9073-493a-a24c-63f01bcd966f"
      },
      "outputs": [
        {
          "output_type": "execute_result",
          "data": {
            "text/plain": [
              "case_outcome\n",
              "0    9762\n",
              "1    3525\n",
              "2    1933\n",
              "3    1820\n",
              "4    1388\n",
              "Name: count, dtype: int64"
            ]
          },
          "metadata": {},
          "execution_count": 35
        }
      ],
      "source": [
        "df_train_filtered['case_outcome'].value_counts()"
      ]
    },
    {
      "cell_type": "code",
      "execution_count": 36,
      "metadata": {
        "colab": {
          "base_uri": "https://localhost:8080/"
        },
        "id": "wmhz5lJiSbfr",
        "outputId": "4151bf1e-5303-4df5-e21b-00c14f345de8"
      },
      "outputs": [
        {
          "output_type": "execute_result",
          "data": {
            "text/plain": [
              "case_outcome\n",
              "0    2457\n",
              "1     859\n",
              "2     515\n",
              "3     436\n",
              "4     324\n",
              "Name: count, dtype: int64"
            ]
          },
          "metadata": {},
          "execution_count": 36
        }
      ],
      "source": [
        "df_test_filtered['case_outcome'].value_counts()"
      ]
    },
    {
      "cell_type": "code",
      "execution_count": 37,
      "metadata": {
        "id": "mncVEuoYxYHQ"
      },
      "outputs": [],
      "source": [
        "# Calculate percentage for each category\n",
        "percentages = (category_counts / total_samples) * 100"
      ]
    },
    {
      "cell_type": "code",
      "execution_count": 39,
      "metadata": {
        "colab": {
          "base_uri": "https://localhost:8080/"
        },
        "id": "BgLGSzpBT_O7",
        "outputId": "eee744f5-dc29-44e5-ab98-1cdc6a8e3a3b"
      },
      "outputs": [
        {
          "output_type": "execute_result",
          "data": {
            "text/plain": [
              "case_outcome\n",
              "0    0.535178\n",
              "1    0.187105\n",
              "2    0.112176\n",
              "3    0.094968\n",
              "4    0.070573\n",
              "Name: proportion, dtype: float64"
            ]
          },
          "metadata": {},
          "execution_count": 39
        }
      ],
      "source": [
        "df_test_filtered['case_outcome'].value_counts(normalize=True)"
      ]
    },
    {
      "cell_type": "code",
      "execution_count": 40,
      "metadata": {
        "id": "hFAgYwwGzrFD"
      },
      "outputs": [],
      "source": [
        "threshold = 5\n",
        "labels_to_keep = label_counts[label_counts >= threshold].index"
      ]
    },
    {
      "cell_type": "code",
      "execution_count": 41,
      "metadata": {
        "id": "v0AvKzxSztr_"
      },
      "outputs": [],
      "source": [
        "# Filter the training data based on the selected labels\n",
        "df_train_filtered = df_train[df_train['case_outcome'].isin(labels_to_keep)]\n",
        "df_test_filtered = df_test[df_test['case_outcome'].isin(labels_to_keep)]"
      ]
    },
    {
      "cell_type": "code",
      "execution_count": 42,
      "metadata": {
        "colab": {
          "base_uri": "https://localhost:8080/"
        },
        "id": "im-rnjQvzw9-",
        "outputId": "9a0f516a-106a-4986-8b90-635ee955c9bc"
      },
      "outputs": [
        {
          "output_type": "execute_result",
          "data": {
            "text/plain": [
              "case_outcome\n",
              "cited          2457\n",
              "referred to     859\n",
              "applied         515\n",
              "followed        436\n",
              "considered      324\n",
              "Name: count, dtype: int64"
            ]
          },
          "metadata": {},
          "execution_count": 42
        }
      ],
      "source": [
        "df_test_filtered['case_outcome'].value_counts()"
      ]
    },
    {
      "cell_type": "code",
      "execution_count": 43,
      "metadata": {
        "id": "szQVj5x_0AC9"
      },
      "outputs": [],
      "source": [
        "# Calculate percentage of data for each category after filtering\n",
        "category_counts_filtered = df_train_filtered['case_outcome'].value_counts()\n",
        "total_samples_filtered = len(df_train_filtered)"
      ]
    },
    {
      "cell_type": "code",
      "execution_count": 44,
      "metadata": {
        "id": "aoW9qF0V0DnK"
      },
      "outputs": [],
      "source": [
        "# Calculate percentage for each category\n",
        "percentages_filtered = {}\n",
        "for category, count in category_counts_filtered.items():\n",
        "    percentage = (count / total_samples_filtered) * 100\n",
        "    percentages_filtered[category] = percentage"
      ]
    },
    {
      "cell_type": "code",
      "execution_count": 45,
      "metadata": {
        "colab": {
          "base_uri": "https://localhost:8080/"
        },
        "id": "v-yrl3LCV7OO",
        "outputId": "b1881012-c2ad-4736-cb92-f4a0709c1257"
      },
      "outputs": [
        {
          "output_type": "stream",
          "name": "stdout",
          "text": [
            "Label: cited, Percentage: 52.97373561970914, Num Samples: 52\n",
            "Label: referred to, Percentage: 19.128500108530496, Num Samples: 19\n",
            "Label: applied, Percentage: 10.489472541784242, Num Samples: 10\n",
            "Label: followed, Percentage: 9.876275233340568, Num Samples: 9\n",
            "Label: considered, Percentage: 7.5320164966355545, Num Samples: 7\n"
          ]
        }
      ],
      "source": [
        "\n",
        "# Create smaller dataset same distributed as original data based on case_outcome percentage\n",
        "subset_size = 100\n",
        "subset_data = pd.DataFrame()\n",
        "for label, percentage in percentages_filtered.items():\n",
        "    num_samples = max(1, int((percentage / 100) * subset_size))\n",
        "    print(f\"Label: {label}, Percentage: {percentage}, Num Samples: {num_samples}\")\n",
        "    subset_data = pd.concat([subset_data, df_train_filtered[df_train_filtered['case_outcome'] == label].sample(num_samples)])"
      ]
    },
    {
      "cell_type": "markdown",
      "source": [
        "\n",
        "\n",
        "1.   As we observe that the data set is distributed based on the percentage of the classes mentioned above.\n",
        "2.   We create a subset of training and testing data set which is alligned to the distribution of actual dataset\n",
        "\n"
      ],
      "metadata": {
        "id": "-Qlxi1S2U98V"
      }
    },
    {
      "cell_type": "code",
      "execution_count": 46,
      "metadata": {
        "colab": {
          "base_uri": "https://localhost:8080/"
        },
        "id": "6-GYMY671hQW",
        "outputId": "62a39095-9af1-4590-fc36-d34c736193fb"
      },
      "outputs": [
        {
          "output_type": "execute_result",
          "data": {
            "text/plain": [
              "case_outcome\n",
              "cited          2457\n",
              "referred to     859\n",
              "applied         515\n",
              "followed        436\n",
              "considered      324\n",
              "Name: count, dtype: int64"
            ]
          },
          "metadata": {},
          "execution_count": 46
        }
      ],
      "source": [
        "df_test_filtered['case_outcome'].value_counts()"
      ]
    },
    {
      "cell_type": "code",
      "execution_count": 47,
      "metadata": {
        "colab": {
          "base_uri": "https://localhost:8080/"
        },
        "id": "FGOJ62I6Cfok",
        "outputId": "1dcb9312-8faf-48e6-d1f4-f6fd58122750"
      },
      "outputs": [
        {
          "output_type": "stream",
          "name": "stdout",
          "text": [
            "Label: cited, Percentage: 52.97373561970914, Num Samples: 52\n",
            "Label: referred to, Percentage: 19.128500108530496, Num Samples: 19\n",
            "Label: applied, Percentage: 10.489472541784242, Num Samples: 10\n",
            "Label: followed, Percentage: 9.876275233340568, Num Samples: 9\n",
            "Label: considered, Percentage: 7.5320164966355545, Num Samples: 7\n"
          ]
        }
      ],
      "source": [
        "test_data_equally_distributed = pd.DataFrame()\n",
        "for label, percentage in percentages_filtered.items():\n",
        "    # Check if the label is present in df_test_filtered\n",
        "    if label in df_test_filtered['case_outcome'].unique():\n",
        "        num_samples = max(1, int((percentage / 100) * subset_size))\n",
        "        print(f\"Label: {label}, Percentage: {percentage}, Num Samples: {num_samples}\")\n",
        "        test_data_equally_distributed = pd.concat([test_data_equally_distributed, df_test_filtered[df_test_filtered['case_outcome'] == label].sample(num_samples)])\n",
        "    else:\n",
        "        print(f\"Label {label} not found in df_test_filtered. Skipped\")"
      ]
    },
    {
      "cell_type": "code",
      "source": [
        "df_test_filtered['case_outcome'].value_counts(normalize=True)"
      ],
      "metadata": {
        "colab": {
          "base_uri": "https://localhost:8080/"
        },
        "id": "di0KDs6l7Mq6",
        "outputId": "9d1cc5de-d566-43ab-d7d8-570926be6203"
      },
      "execution_count": 79,
      "outputs": [
        {
          "output_type": "execute_result",
          "data": {
            "text/plain": [
              "case_outcome\n",
              "cited          0.535178\n",
              "referred to    0.187105\n",
              "applied        0.112176\n",
              "followed       0.094968\n",
              "considered     0.070573\n",
              "Name: proportion, dtype: float64"
            ]
          },
          "metadata": {},
          "execution_count": 79
        }
      ]
    },
    {
      "cell_type": "code",
      "execution_count": 48,
      "metadata": {
        "colab": {
          "base_uri": "https://localhost:8080/"
        },
        "id": "AQ1XtL7S1cKd",
        "outputId": "42e9a9bd-3852-4f05-fc48-c5305b56b170"
      },
      "outputs": [
        {
          "output_type": "execute_result",
          "data": {
            "text/plain": [
              "case_outcome\n",
              "cited          2457\n",
              "referred to     859\n",
              "applied         515\n",
              "followed        436\n",
              "considered      324\n",
              "Name: count, dtype: int64"
            ]
          },
          "metadata": {},
          "execution_count": 48
        }
      ],
      "source": [
        "df_test_filtered['case_outcome'].value_counts()"
      ]
    },
    {
      "cell_type": "code",
      "source": [
        "list_label=[\"cited\",\"referred to\",\"applied\",\"followed\",\"considered \"]\n"
      ],
      "metadata": {
        "id": "oJvMRv5S7nUS"
      },
      "execution_count": 81,
      "outputs": []
    },
    {
      "cell_type": "markdown",
      "source": [
        "**Creating equally distributed test data based on the original data**"
      ],
      "metadata": {
        "id": "5o0278nyVnzL"
      }
    },
    {
      "cell_type": "code",
      "execution_count": 82,
      "metadata": {
        "id": "GyUqeoo50Xz7",
        "colab": {
          "base_uri": "https://localhost:8080/"
        },
        "outputId": "d2c2653f-54ae-46ff-8b44-d019900056e6"
      },
      "outputs": [
        {
          "output_type": "stream",
          "name": "stdout",
          "text": [
            "1998 cited\n",
            "1998 referred to\n",
            "1933 applied\n",
            "1820 followed\n"
          ]
        }
      ],
      "source": [
        "\n",
        "# Create equally distributed test data based on the original data\n",
        "test_data_equally_distributed = pd.DataFrame()\n",
        "for label, count in category_counts.items():\n",
        "  # Ensure minimum of 1 sample even if count is less than total_samples/len(category_counts)\n",
        "  num_samples = max(1, min(count, int(total_samples / len(category_counts))))\n",
        "  if num_samples > 0:\n",
        "    if(label in list_label):\n",
        "      print(num_samples,label)\n",
        "      sample_data = df_test_filtered[df_test_filtered['case_outcome'] == label].sample(num_samples, replace=True)\n",
        "      test_data_equally_distributed = pd.concat([test_data_equally_distributed, sample_data])\n"
      ]
    },
    {
      "cell_type": "markdown",
      "source": [
        "**Creating different sample of test data from the original data**"
      ],
      "metadata": {
        "id": "11IjQnoFV0Jy"
      }
    },
    {
      "cell_type": "code",
      "execution_count": 83,
      "metadata": {
        "id": "sHcJh1ZjB26A"
      },
      "outputs": [],
      "source": [
        "test_data_different_distribution = df_test_filtered.sample(len(df_test_filtered))\n"
      ]
    },
    {
      "cell_type": "code",
      "execution_count": 84,
      "metadata": {
        "id": "q4XXt00MB8M8"
      },
      "outputs": [],
      "source": [
        "subset_data['encoded_outcome'] = subset_data['case_outcome'].map(encoded_dict)\n",
        "test_data_equally_distributed['encoded_outcome'] = test_data_equally_distributed['case_outcome'].map(encoded_dict)\n",
        "test_data_different_distribution['encoded_outcome'] = test_data_different_distribution['case_outcome'].map(encoded_dict)"
      ]
    },
    {
      "cell_type": "code",
      "execution_count": 85,
      "metadata": {
        "id": "LHnRgsMx04iq"
      },
      "outputs": [],
      "source": [
        "import torch"
      ]
    },
    {
      "cell_type": "code",
      "execution_count": 53,
      "metadata": {
        "id": "mJ96GMH4B4U2"
      },
      "outputs": [],
      "source": [
        "# # Convert labels to tensors (PyTorch)\n",
        "\n",
        "# y_train = torch.tensor(df_train_filtered['case_outcome'].tolist())\n",
        "# y_test = torch.tensor(df_test_filtered['case_outcome'].tolist())\n"
      ]
    },
    {
      "cell_type": "code",
      "execution_count": 86,
      "metadata": {
        "colab": {
          "base_uri": "https://localhost:8080/"
        },
        "id": "xHQDCgi0CPY_",
        "outputId": "cbad9409-205f-407d-e5b9-233011bb60f5"
      },
      "outputs": [
        {
          "output_type": "stream",
          "name": "stderr",
          "text": [
            "Some weights of BertForSequenceClassification were not initialized from the model checkpoint at bert-base-cased and are newly initialized: ['classifier.bias', 'classifier.weight']\n",
            "You should probably TRAIN this model on a down-stream task to be able to use it for predictions and inference.\n"
          ]
        }
      ],
      "source": [
        "# Load tokenizer and pre-trained model (PyTorch)\n",
        "tokenizer = AutoTokenizer.from_pretrained('bert-base-cased')\n",
        "model = AutoModelForSequenceClassification.from_pretrained('bert-base-cased', num_labels=5)  # 5 for 5 classes\n"
      ]
    },
    {
      "cell_type": "markdown",
      "metadata": {
        "id": "_EA4TW8C-EcK"
      },
      "source": [
        "# **Tokenize the input**"
      ]
    },
    {
      "cell_type": "code",
      "execution_count": 89,
      "metadata": {
        "id": "k__IT69WCm2t"
      },
      "outputs": [],
      "source": [
        "# Tokenize the input (PyTorch)\n",
        "max_len = 70\n",
        "encoding_train = tokenizer(\n",
        "    text=subset_data.case_text.tolist(),\n",
        "    add_special_tokens=True,\n",
        "    max_length=max_len,\n",
        "    truncation=True,\n",
        "    padding='max_length',\n",
        "    return_tensors='pt'\n",
        ")"
      ]
    },
    {
      "cell_type": "markdown",
      "metadata": {
        "id": "qxsxREt4-IvF"
      },
      "source": [
        "# **Tokenize testing data**"
      ]
    },
    {
      "cell_type": "code",
      "execution_count": 90,
      "metadata": {
        "id": "JZNZ67_PCunA"
      },
      "outputs": [],
      "source": [
        "encoding_test = tokenizer(\n",
        "    text=test_data_equally_distributed.case_text.tolist(),\n",
        "    add_special_tokens=True,\n",
        "    max_length=max_len,\n",
        "    truncation=True,\n",
        "    padding='max_length',\n",
        "    return_tensors='pt'\n",
        ")"
      ]
    },
    {
      "cell_type": "code",
      "source": [],
      "metadata": {
        "id": "uBYQxQ6cA6K7"
      },
      "execution_count": null,
      "outputs": []
    },
    {
      "cell_type": "markdown",
      "metadata": {
        "id": "fic3ZD6RFE08"
      },
      "source": [
        "# **Tokenize different set of test data**"
      ]
    },
    {
      "cell_type": "code",
      "execution_count": 91,
      "metadata": {
        "id": "hq76oJ_wFJI2"
      },
      "outputs": [],
      "source": [
        "encoding_test_different_distribution = tokenizer(\n",
        "    text=test_data_different_distribution.case_text.tolist(),\n",
        "    add_special_tokens=True,\n",
        "    max_length=max_len,\n",
        "    truncation=True,\n",
        "    padding='max_length',\n",
        "    return_tensors='pt'\n",
        ")"
      ]
    },
    {
      "cell_type": "code",
      "execution_count": 92,
      "metadata": {
        "id": "gLQh9hX9C4PR"
      },
      "outputs": [],
      "source": [
        "input_ids_train = encoding_train['input_ids']\n",
        "attention_mask_train = encoding_train['attention_mask']\n",
        "input_ids_test = encoding_test['input_ids']\n",
        "attention_mask_test = encoding_test['attention_mask']\n",
        "input_ids_test_different_distribution = encoding_test_different_distribution['input_ids']\n",
        "attention_mask_test_different_distribution = encoding_test_different_distribution['attention_mask']"
      ]
    },
    {
      "cell_type": "markdown",
      "metadata": {
        "id": "P2SNbfK_FlZw"
      },
      "source": [
        "# **Convert Labels to Tensors(Pytorch)**"
      ]
    },
    {
      "cell_type": "code",
      "execution_count": 93,
      "metadata": {
        "id": "qDjN4UBQF3hn"
      },
      "outputs": [],
      "source": [
        "# Convert labels to tensors (PyTorch)\n",
        "y_train = torch.tensor(subset_data['encoded_outcome'].tolist())\n",
        "y_test_equally_distributed = torch.tensor(test_data_equally_distributed['encoded_outcome'].tolist())\n",
        "y_test_different_distribution = torch.tensor(test_data_different_distribution['encoded_outcome'].tolist())"
      ]
    },
    {
      "cell_type": "markdown",
      "metadata": {
        "id": "Rv93_eYV-Phk"
      },
      "source": [
        "# **Sample a very minimal subset of the data for training**"
      ]
    },
    {
      "cell_type": "code",
      "execution_count": 94,
      "metadata": {
        "id": "A-QWftedTcne"
      },
      "outputs": [],
      "source": [
        "subset_size = min(100, len(y_train))  # Ensure subset_size is not larger than the dataset size\n",
        "indices = np.random.choice(len(y_train), subset_size, replace=False)\n",
        "input_ids_train_subset = input_ids_train[indices]\n",
        "attention_mask_train_subset = attention_mask_train[indices]\n",
        "y_train_subset = y_train[indices]"
      ]
    },
    {
      "cell_type": "markdown",
      "metadata": {
        "id": "UEycKbbu-WHq"
      },
      "source": [
        "# **Define training function**"
      ]
    },
    {
      "cell_type": "code",
      "execution_count": 95,
      "metadata": {
        "id": "9XDGjBwpTcaJ"
      },
      "outputs": [],
      "source": [
        "# Define training function\n",
        "def train(model, optimizer, train_loader, criterion, epochs=3):\n",
        "    model.train()  # Set model to training mode\n",
        "    for epoch in range(epochs):\n",
        "        for input_ids, attention_mask, labels in train_loader:\n",
        "            optimizer.zero_grad()  # Clear gradients\n",
        "            outputs = model(input_ids, attention_mask=attention_mask)  # Forward pass\n",
        "            loss = criterion(outputs.logits, labels)  # Calculate loss\n",
        "            loss.backward()  # Backpropagation\n",
        "            optimizer.step()  # Update weights"
      ]
    },
    {
      "cell_type": "code",
      "execution_count": 96,
      "metadata": {
        "id": "9MYQEytlDOvy"
      },
      "outputs": [],
      "source": [
        "batch_size = 32\n"
      ]
    },
    {
      "cell_type": "code",
      "execution_count": 97,
      "metadata": {
        "id": "VLQa9HHKDZiY"
      },
      "outputs": [],
      "source": [
        "import torch.nn as nn"
      ]
    },
    {
      "cell_type": "code",
      "execution_count": 68,
      "metadata": {
        "id": "DLHzCqiBXbNm"
      },
      "outputs": [],
      "source": [
        "from torch.utils.data import TensorDataset, DataLoader"
      ]
    },
    {
      "cell_type": "markdown",
      "metadata": {
        "id": "UFzNvX1K-bbh"
      },
      "source": [
        "# **Train the model with the minimal subset of data**"
      ]
    },
    {
      "cell_type": "code",
      "execution_count": 69,
      "metadata": {
        "id": "DVvQR7WtXNUd"
      },
      "outputs": [],
      "source": [
        "# Train the model\n",
        "optimizer = torch.optim.AdamW(model.parameters(), lr=5e-5)  # AdamW optimizer with learning rate\n",
        "batch_size = 8\n",
        "train_dataset = TensorDataset(input_ids_train, attention_mask_train, y_train)\n",
        "train_loader = DataLoader(train_dataset, batch_size=batch_size, shuffle=True)\n",
        "criterion = nn.CrossEntropyLoss()  # Loss function for multi-class classification\n",
        "epochs = 3\n",
        "train(model, optimizer, train_loader, criterion, epochs=epochs)  # Train for 3 epochs"
      ]
    },
    {
      "cell_type": "code",
      "source": [
        "for batch in train_loader:\n",
        "    print(batch)\n",
        "    break"
      ],
      "metadata": {
        "colab": {
          "base_uri": "https://localhost:8080/"
        },
        "id": "B-te5XiKBBia",
        "outputId": "6a3f4309-7341-4fce-e83f-9c2d7482ddcd"
      },
      "execution_count": 70,
      "outputs": [
        {
          "output_type": "stream",
          "name": "stdout",
          "text": [
            "[tensor([[  101,  8715,  2050,   170, 12207, 24874,  1179,  7033,   191,   185,\n",
            "          4820, 24611,  9872,  6696,   181,  1204,  1181,   177,  2599,   172,\n",
            "          1233,  1197,  1218,  4586,  8050, 25685,  2050,  1197,  1260, 21349,\n",
            "          1336, 24034,  9610,  1179,  1260, 21349, 11166,  4930,  1321,  5318,\n",
            "          3300,  2519,  1260, 21349,  8693,  2608,   188, 19756,  3818,  1352,\n",
            "          6848,  2646,  5318,  1538,  1678,  3300,  1260, 21349,  1293,  6348,\n",
            "          1231, 23403,  5318,  1136,  6848,  2646,  1352,  1538,  1260,   102],\n",
            "        [  101,  8715,  2050, 13280,  3080,  1403,  1197,  4321, 10182,  6066,\n",
            "          2149,  7033,   191, 22904,  8613,  1183,  8508,  3848,  1182,   175,\n",
            "          2599,   175,  1665,  1197,  1321,  3971,  8715,  2050,  1747,  2100,\n",
            "          5767,  1141,  1289,  2351,  4586,   189,  2047,  7925,  1179,  1185,\n",
            "          5565,  1197,   184,  1830,  2646,  1403,  1107, 17030,  4035, 18276,\n",
            "          2047,  1294, 12647,  8031,  1692,  2351,  7461,  1171,  1297,   189,\n",
            "          2047,  7925,  1179,  1267, 12211,  1643,  1233,  8715,  2050,   102],\n",
            "        [  101, 13936,  7301, 12686, 16468,  4567,  1231,  7301,  2149,  1665,\n",
            "           181,  1204,  1181,   191,  5500, 27522,  1204,   177,  2599,   172,\n",
            "          1233,  1197,  3548,   185,  2047, 15655, 12606,  1692,  1260,  2083,\n",
            "          7937,  1887,  1644,   185,  4854,  6617,  1643,  1233,  1136, 23609,\n",
            "          1733, 27280,  5250,  9356,   174, 18312,  2496,   172,  1582,  1136,\n",
            "          1596,  5250,  7641,  1665,  1136,  1110,  6385, 23609, 15615,  2155,\n",
            "          5194, 21977,  5830,   174, 18312,  1267, 13936,  7301, 12686,   102],\n",
            "        [  101,   170,  1320,  3187, 14516,  1197, 15901, 12686, 16468,  4567,\n",
            "           181,  1204,  1181,   191, 12686, 16468, 15647,  3790,  8362, 25105,\n",
            "           177,  2599,  2393,  1197,  1260, 21349,   179,  4867,  1403,  8050,\n",
            "         25028,  4558,  2100,  1136,  9455, 27089, 21017,  2047,  1260, 21349,\n",
            "         21435,  7710,  1260, 21349,   170,  1320,  3187, 14516,  1197, 15901,\n",
            "         12686, 16468,  4567,   181,  1204,  1181,   191, 12686, 16468, 15647,\n",
            "          3790,  8362, 25105,   177,  2599,  2393,  1197,  2284,  2953,   102],\n",
            "        [  101,  2493,  9294, 16358,   191,  8715,  2050, 13280,  3080,  1403,\n",
            "          1197,  1821,  1643,  5237,  7033,   177,  2599,   172,  1233,  1197,\n",
            "          1553,   179, 10559,  1179,   191, 12686, 16468, 15647, 14516, 10182,\n",
            "          1197,  3254, 15394,  1116,   177,  2599,   172,  1233,  1197,  9304,\n",
            "          1424,  6509,   179,  1136,  4035,  6639,  1233,  2175,  1294,  1546,\n",
            "          1226,  1182,  4941,  6512,  1185,  1747,  3893,  5565,  1197,  1644,\n",
            "          4586,  1226,  1182,  1538,  6565,  1163,  2732,  5991,  1553,   102],\n",
            "        [  101, 10468, 22233,  3121,  7926,  1204, 12686, 16468,  4567,   181,\n",
            "          1204,  1181,   191, 12686, 16468, 15647,  7672,  1200, 14255,  6385,\n",
            "          1306,  5677,  1548,  1107,  1665,  1185,   175,  1665,  1197, 11850,\n",
            "          1665, 12686, 16468, 15647,  2991,  2615,  3304,   185,  3121,   181,\n",
            "          1204,  1181,   191,  6507, 27054,  1197,   183,  1116,  2246,   177,\n",
            "          2599,   172,  1233,  1197, 13936,  1643,  2175,  1231,  2528, 22152,\n",
            "          1116,  5721,  1260,  1665,  5815,  6579,  1182,  3893, 12647,   102],\n",
            "        [  101,   188,  5303,   191,  8715,  2050, 13280,  3080,  1403,  1197,\n",
            "          1821,  1643,  9709,   175,  2599,  2774,  2480,  2255, 12647,  8031,\n",
            "          1231, 27089,  1231, 18276,  1197,   174,  7501,  1358,  4778,  1842,\n",
            "          1776,  4652,   172,  3161, 19172,  2050,  1678,  3300,   188,  5303,\n",
            "           191,  8715,  2050, 13280,  3080,  1403,  1197,  1821,  1643,  9709,\n",
            "           175,  2599,   102,     0,     0,     0,     0,     0,     0,     0,\n",
            "             0,     0,     0,     0,     0,     0,     0,     0,     0,     0],\n",
            "        [  101,  5871,  3740, 12686, 16468,  4567,   181,  1204,  1181,   191,\n",
            "          5500, 12686, 16468, 15647,  7672,  1200,   185, 14987,   175,  2599,\n",
            "          1185,  4095,  1260, 21349,  1110,  6385,  3403, 13178,  1260, 21349,\n",
            "          4035, 11179,  1692,  3755,  2496,  2452,  2646,  3189,  8050,  3361,\n",
            "          1197,  2496,   175,  1200,  2047,   191,  1887,  7921,  1348,  1582,\n",
            "          1900,   186,  6718,  6922,  1394,   175,  1665,  1197,  4688, 11791,\n",
            "           191,  3790,  3755,  2351,   175,  1665,  1197,  5871,  3740,   102]]), tensor([[1, 1, 1, 1, 1, 1, 1, 1, 1, 1, 1, 1, 1, 1, 1, 1, 1, 1, 1, 1, 1, 1, 1, 1,\n",
            "         1, 1, 1, 1, 1, 1, 1, 1, 1, 1, 1, 1, 1, 1, 1, 1, 1, 1, 1, 1, 1, 1, 1, 1,\n",
            "         1, 1, 1, 1, 1, 1, 1, 1, 1, 1, 1, 1, 1, 1, 1, 1, 1, 1, 1, 1, 1, 1],\n",
            "        [1, 1, 1, 1, 1, 1, 1, 1, 1, 1, 1, 1, 1, 1, 1, 1, 1, 1, 1, 1, 1, 1, 1, 1,\n",
            "         1, 1, 1, 1, 1, 1, 1, 1, 1, 1, 1, 1, 1, 1, 1, 1, 1, 1, 1, 1, 1, 1, 1, 1,\n",
            "         1, 1, 1, 1, 1, 1, 1, 1, 1, 1, 1, 1, 1, 1, 1, 1, 1, 1, 1, 1, 1, 1],\n",
            "        [1, 1, 1, 1, 1, 1, 1, 1, 1, 1, 1, 1, 1, 1, 1, 1, 1, 1, 1, 1, 1, 1, 1, 1,\n",
            "         1, 1, 1, 1, 1, 1, 1, 1, 1, 1, 1, 1, 1, 1, 1, 1, 1, 1, 1, 1, 1, 1, 1, 1,\n",
            "         1, 1, 1, 1, 1, 1, 1, 1, 1, 1, 1, 1, 1, 1, 1, 1, 1, 1, 1, 1, 1, 1],\n",
            "        [1, 1, 1, 1, 1, 1, 1, 1, 1, 1, 1, 1, 1, 1, 1, 1, 1, 1, 1, 1, 1, 1, 1, 1,\n",
            "         1, 1, 1, 1, 1, 1, 1, 1, 1, 1, 1, 1, 1, 1, 1, 1, 1, 1, 1, 1, 1, 1, 1, 1,\n",
            "         1, 1, 1, 1, 1, 1, 1, 1, 1, 1, 1, 1, 1, 1, 1, 1, 1, 1, 1, 1, 1, 1],\n",
            "        [1, 1, 1, 1, 1, 1, 1, 1, 1, 1, 1, 1, 1, 1, 1, 1, 1, 1, 1, 1, 1, 1, 1, 1,\n",
            "         1, 1, 1, 1, 1, 1, 1, 1, 1, 1, 1, 1, 1, 1, 1, 1, 1, 1, 1, 1, 1, 1, 1, 1,\n",
            "         1, 1, 1, 1, 1, 1, 1, 1, 1, 1, 1, 1, 1, 1, 1, 1, 1, 1, 1, 1, 1, 1],\n",
            "        [1, 1, 1, 1, 1, 1, 1, 1, 1, 1, 1, 1, 1, 1, 1, 1, 1, 1, 1, 1, 1, 1, 1, 1,\n",
            "         1, 1, 1, 1, 1, 1, 1, 1, 1, 1, 1, 1, 1, 1, 1, 1, 1, 1, 1, 1, 1, 1, 1, 1,\n",
            "         1, 1, 1, 1, 1, 1, 1, 1, 1, 1, 1, 1, 1, 1, 1, 1, 1, 1, 1, 1, 1, 1],\n",
            "        [1, 1, 1, 1, 1, 1, 1, 1, 1, 1, 1, 1, 1, 1, 1, 1, 1, 1, 1, 1, 1, 1, 1, 1,\n",
            "         1, 1, 1, 1, 1, 1, 1, 1, 1, 1, 1, 1, 1, 1, 1, 1, 1, 1, 1, 1, 1, 1, 1, 1,\n",
            "         1, 1, 1, 1, 1, 0, 0, 0, 0, 0, 0, 0, 0, 0, 0, 0, 0, 0, 0, 0, 0, 0],\n",
            "        [1, 1, 1, 1, 1, 1, 1, 1, 1, 1, 1, 1, 1, 1, 1, 1, 1, 1, 1, 1, 1, 1, 1, 1,\n",
            "         1, 1, 1, 1, 1, 1, 1, 1, 1, 1, 1, 1, 1, 1, 1, 1, 1, 1, 1, 1, 1, 1, 1, 1,\n",
            "         1, 1, 1, 1, 1, 1, 1, 1, 1, 1, 1, 1, 1, 1, 1, 1, 1, 1, 1, 1, 1, 1]]), tensor([0, 1, 0, 0, 0, 0, 3, 0])]\n"
          ]
        }
      ]
    },
    {
      "cell_type": "code",
      "source": [
        "# Make predictions on the training data\n",
        "predictions_train = []\n",
        "true_labels_train = []\n",
        "with torch.no_grad():\n",
        "    model.eval()\n",
        "    for input_ids, attention_mask, labels in train_loader:\n",
        "        outputs = model(input_ids, attention_mask=attention_mask)\n",
        "        predictions = torch.argmax(outputs.logits, dim=1)\n",
        "        predictions_train.extend(predictions.tolist())\n",
        "        true_labels_train.extend(labels.tolist())\n",
        "\n",
        "# Calculate classification report\n",
        "class_names = list(encoded_dict.keys())\n",
        "classification_report_train = classification_report(true_labels_train, predictions_train, target_names=class_names, labels=range(len(class_names)))\n",
        "print(\"Classification Report for Training Data:\")\n",
        "print(classification_report_train)\n"
      ],
      "metadata": {
        "colab": {
          "base_uri": "https://localhost:8080/"
        },
        "id": "UTeKcdOa-I5c",
        "outputId": "1d5e4016-2304-499c-fde1-1727694ce9d5"
      },
      "execution_count": 71,
      "outputs": [
        {
          "output_type": "stream",
          "name": "stdout",
          "text": [
            "Classification Report for Training Data:\n",
            "               precision    recall  f1-score   support\n",
            "\n",
            "        cited       0.54      1.00      0.70        52\n",
            "  referred to       0.00      0.00      0.00        19\n",
            "      applied       0.00      0.00      0.00        10\n",
            "     followed       0.00      0.00      0.00         9\n",
            "   considered       0.00      0.00      0.00         7\n",
            "    discussed       0.00      0.00      0.00         0\n",
            "distinguished       0.00      0.00      0.00         0\n",
            "     approved       0.00      0.00      0.00         0\n",
            "      related       0.00      0.00      0.00         0\n",
            "     affirmed       0.00      0.00      0.00         0\n",
            "\n",
            "    micro avg       0.54      0.54      0.54        97\n",
            "    macro avg       0.05      0.10      0.07        97\n",
            " weighted avg       0.29      0.54      0.37        97\n",
            "\n"
          ]
        },
        {
          "output_type": "stream",
          "name": "stderr",
          "text": [
            "/usr/local/lib/python3.10/dist-packages/sklearn/metrics/_classification.py:1344: UndefinedMetricWarning: Precision and F-score are ill-defined and being set to 0.0 in labels with no predicted samples. Use `zero_division` parameter to control this behavior.\n",
            "  _warn_prf(average, modifier, msg_start, len(result))\n",
            "/usr/local/lib/python3.10/dist-packages/sklearn/metrics/_classification.py:1344: UndefinedMetricWarning: Recall and F-score are ill-defined and being set to 0.0 in labels with no true samples. Use `zero_division` parameter to control this behavior.\n",
            "  _warn_prf(average, modifier, msg_start, len(result))\n",
            "/usr/local/lib/python3.10/dist-packages/sklearn/metrics/_classification.py:1344: UndefinedMetricWarning: Precision and F-score are ill-defined and being set to 0.0 in labels with no predicted samples. Use `zero_division` parameter to control this behavior.\n",
            "  _warn_prf(average, modifier, msg_start, len(result))\n",
            "/usr/local/lib/python3.10/dist-packages/sklearn/metrics/_classification.py:1344: UndefinedMetricWarning: Recall and F-score are ill-defined and being set to 0.0 in labels with no true samples. Use `zero_division` parameter to control this behavior.\n",
            "  _warn_prf(average, modifier, msg_start, len(result))\n",
            "/usr/local/lib/python3.10/dist-packages/sklearn/metrics/_classification.py:1344: UndefinedMetricWarning: Precision and F-score are ill-defined and being set to 0.0 in labels with no predicted samples. Use `zero_division` parameter to control this behavior.\n",
            "  _warn_prf(average, modifier, msg_start, len(result))\n",
            "/usr/local/lib/python3.10/dist-packages/sklearn/metrics/_classification.py:1344: UndefinedMetricWarning: Recall and F-score are ill-defined and being set to 0.0 in labels with no true samples. Use `zero_division` parameter to control this behavior.\n",
            "  _warn_prf(average, modifier, msg_start, len(result))\n"
          ]
        }
      ]
    },
    {
      "cell_type": "markdown",
      "metadata": {
        "id": "PH7lRHlZ-eXE"
      },
      "source": [
        "# **Evaluate the model**"
      ]
    },
    {
      "cell_type": "code",
      "execution_count": 72,
      "metadata": {
        "id": "9BfdzlaZDDvJ"
      },
      "outputs": [],
      "source": [
        "# Evaluate the model\n",
        "def evaluate_model(model, input_ids, attention_mask, labels):\n",
        "    model.eval()  # Set model to evaluation mode\n",
        "    predictions = []\n",
        "    with torch.no_grad():\n",
        "        for i in range(0, len(input_ids), batch_size):\n",
        "            batch_input_ids = input_ids[i:i+batch_size]\n",
        "            batch_attention_mask = attention_mask[i:i+batch_size]\n",
        "            outputs = model(batch_input_ids, attention_mask=batch_attention_mask)\n",
        "            predictions.extend(torch.argmax(outputs.logits, axis=1).tolist())\n",
        "    print(\"Classification Report:\")\n",
        "    print(classification_report(labels.tolist(), predictions))\n",
        "    print(\"Confusion Matrix:\")\n",
        "    print(confusion_matrix(labels.tolist(), predictions))"
      ]
    },
    {
      "cell_type": "code",
      "execution_count": 73,
      "metadata": {
        "id": "6xUUj8QhOtaV"
      },
      "outputs": [],
      "source": [
        "from sklearn.metrics import classification_report, confusion_matrix"
      ]
    },
    {
      "cell_type": "code",
      "source": [
        "evaluate_model(model, input_ids_test, attention_mask_test, y_test_equally_distributed)\n"
      ],
      "metadata": {
        "colab": {
          "base_uri": "https://localhost:8080/"
        },
        "id": "vY-QH5vu9_RC",
        "outputId": "9f409c77-32fa-436e-b923-cfab9c52048d"
      },
      "execution_count": 98,
      "outputs": [
        {
          "output_type": "stream",
          "name": "stdout",
          "text": [
            "Classification Report:\n",
            "              precision    recall  f1-score   support\n",
            "\n",
            "           0       0.26      0.91      0.40      1998\n",
            "           1       0.00      0.00      0.00      1998\n",
            "           2       0.27      0.10      0.14      1933\n",
            "           3       0.00      0.00      0.00      1820\n",
            "           4       0.00      0.00      0.00         0\n",
            "\n",
            "    accuracy                           0.26      7749\n",
            "   macro avg       0.10      0.20      0.11      7749\n",
            "weighted avg       0.13      0.26      0.14      7749\n",
            "\n",
            "Confusion Matrix:\n",
            "[[1816    0  170    0   12]\n",
            " [1848    0  148    0    2]\n",
            " [1743    0  184    0    6]\n",
            " [1631    0  189    0    0]\n",
            " [   0    0    0    0    0]]\n"
          ]
        },
        {
          "output_type": "stream",
          "name": "stderr",
          "text": [
            "/usr/local/lib/python3.10/dist-packages/sklearn/metrics/_classification.py:1344: UndefinedMetricWarning: Precision and F-score are ill-defined and being set to 0.0 in labels with no predicted samples. Use `zero_division` parameter to control this behavior.\n",
            "  _warn_prf(average, modifier, msg_start, len(result))\n",
            "/usr/local/lib/python3.10/dist-packages/sklearn/metrics/_classification.py:1344: UndefinedMetricWarning: Recall and F-score are ill-defined and being set to 0.0 in labels with no true samples. Use `zero_division` parameter to control this behavior.\n",
            "  _warn_prf(average, modifier, msg_start, len(result))\n",
            "/usr/local/lib/python3.10/dist-packages/sklearn/metrics/_classification.py:1344: UndefinedMetricWarning: Precision and F-score are ill-defined and being set to 0.0 in labels with no predicted samples. Use `zero_division` parameter to control this behavior.\n",
            "  _warn_prf(average, modifier, msg_start, len(result))\n",
            "/usr/local/lib/python3.10/dist-packages/sklearn/metrics/_classification.py:1344: UndefinedMetricWarning: Recall and F-score are ill-defined and being set to 0.0 in labels with no true samples. Use `zero_division` parameter to control this behavior.\n",
            "  _warn_prf(average, modifier, msg_start, len(result))\n",
            "/usr/local/lib/python3.10/dist-packages/sklearn/metrics/_classification.py:1344: UndefinedMetricWarning: Precision and F-score are ill-defined and being set to 0.0 in labels with no predicted samples. Use `zero_division` parameter to control this behavior.\n",
            "  _warn_prf(average, modifier, msg_start, len(result))\n",
            "/usr/local/lib/python3.10/dist-packages/sklearn/metrics/_classification.py:1344: UndefinedMetricWarning: Recall and F-score are ill-defined and being set to 0.0 in labels with no true samples. Use `zero_division` parameter to control this behavior.\n",
            "  _warn_prf(average, modifier, msg_start, len(result))\n"
          ]
        }
      ]
    },
    {
      "cell_type": "code",
      "execution_count": 99,
      "metadata": {
        "colab": {
          "base_uri": "https://localhost:8080/"
        },
        "id": "vXd-m80RV2eD",
        "outputId": "289837c2-70c6-4a32-9e05-8e5d06ab1dcb"
      },
      "outputs": [
        {
          "output_type": "stream",
          "name": "stdout",
          "text": [
            "Classification Report:\n",
            "              precision    recall  f1-score   support\n",
            "\n",
            "           0       0.54      0.91      0.67      2457\n",
            "           1       0.00      0.00      0.00       859\n",
            "           2       0.11      0.09      0.10       515\n",
            "           3       0.00      0.00      0.00       436\n",
            "           4       0.08      0.01      0.01       324\n",
            "\n",
            "    accuracy                           0.50      4591\n",
            "   macro avg       0.15      0.20      0.16      4591\n",
            "weighted avg       0.31      0.50      0.37      4591\n",
            "\n",
            "Confusion Matrix:\n",
            "[[2234    0  205    0   18]\n",
            " [ 789    0   68    0    2]\n",
            " [ 468    0   45    0    2]\n",
            " [ 391    0   45    0    0]\n",
            " [ 286    0   36    0    2]]\n"
          ]
        },
        {
          "output_type": "stream",
          "name": "stderr",
          "text": [
            "/usr/local/lib/python3.10/dist-packages/sklearn/metrics/_classification.py:1344: UndefinedMetricWarning: Precision and F-score are ill-defined and being set to 0.0 in labels with no predicted samples. Use `zero_division` parameter to control this behavior.\n",
            "  _warn_prf(average, modifier, msg_start, len(result))\n",
            "/usr/local/lib/python3.10/dist-packages/sklearn/metrics/_classification.py:1344: UndefinedMetricWarning: Precision and F-score are ill-defined and being set to 0.0 in labels with no predicted samples. Use `zero_division` parameter to control this behavior.\n",
            "  _warn_prf(average, modifier, msg_start, len(result))\n",
            "/usr/local/lib/python3.10/dist-packages/sklearn/metrics/_classification.py:1344: UndefinedMetricWarning: Precision and F-score are ill-defined and being set to 0.0 in labels with no predicted samples. Use `zero_division` parameter to control this behavior.\n",
            "  _warn_prf(average, modifier, msg_start, len(result))\n"
          ]
        }
      ],
      "source": [
        "evaluate_model(model, input_ids_test_different_distribution, attention_mask_test_different_distribution, y_test_different_distribution)\n"
      ]
    }
  ],
  "metadata": {
    "accelerator": "GPU",
    "colab": {
      "gpuType": "T4",
      "provenance": []
    },
    "kernelspec": {
      "display_name": "Python 3",
      "name": "python3"
    },
    "language_info": {
      "name": "python"
    }
  },
  "nbformat": 4,
  "nbformat_minor": 0
}